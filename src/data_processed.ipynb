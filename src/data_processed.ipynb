{
 "cells": [
  {
   "metadata": {
    "ExecuteTime": {
     "end_time": "2025-08-13T03:04:42.767965Z",
     "start_time": "2025-08-13T03:04:40.492348Z"
    }
   },
   "cell_type": "code",
   "source": [
    "#参数设定\n",
    "import os\n",
    "import pandas as pd\n",
    "CODE_MAP = {\n",
    "    '000852.SH': 'IM',  # 中证1000指数 -> IM期货\n",
    "    '000905.SH': 'IC',  # 中证500指数 -> IC期货\n",
    "    '000300.SH': 'IF',  # 沪深300指数 -> IF期货\n",
    "    '000016.SH': 'IH',  # 上证50指数 -> IH期货\n",
    "}\n",
    "PROJECT_PATH = \"/Users/yaoyuyang/Desktop/Code/daily_futures_arbitrary_strategy/src\"\n",
    "DATA_PATH = os.path.abspath(os.path.join(PROJECT_PATH, \"..\",'data'))\n",
    "RAW_DATA_PATH=os.path.join(DATA_PATH, 'raw')\n",
    "FILES = {\n",
    "    '000852.SH':'000852.csv',\n",
    "    '000905.SH':'000905.csv',\n",
    "    '000300.SH':'000300.csv',\n",
    "    '000016.SH':'000016.csv'\n",
    "}\n",
    "CAL_TYPE = \"udy\"\n",
    "PAIRS = [('IM','IC'), ('IM','IF'), ('IM','IH'),\n",
    "        ('IC','IF'), ('IC','IH'),\n",
    "        ('IF','IH')]"
   ],
   "id": "e76d5cfb897f2be7",
   "outputs": [],
   "execution_count": 1
  },
  {
   "metadata": {
    "ExecuteTime": {
     "end_time": "2025-08-13T03:12:29.881453Z",
     "start_time": "2025-08-13T03:12:26.723841Z"
    }
   },
   "cell_type": "code",
   "source": [
    "#日度调仓\n",
    "LEVERAGE = 2.0\n",
    "NV0 = 1.0\n",
    "frames = []\n",
    "for code, fname in FILES.items():\n",
    "    path= os.path.join(RAW_DATA_PATH,fname)\n",
    "    df = pd.read_csv(path)\n",
    "\n",
    "    needed = {'time','close'}\n",
    "    missing = needed - set(df.columns)\n",
    "    if missing:\n",
    "        raise ValueError(f\"{fname}缺少列：{missing}\")\n",
    "\n",
    "    df = df.copy()\n",
    "    df[\"time\"] = pd.to_datetime(df[\"time\"])\n",
    "    df = df.sort_values('time')\n",
    "    ticker = CODE_MAP[code]\n",
    "    df = df[['time','close']].rename(columns = {'close':f'p_{ticker}'})\n",
    "    frames.append(df)\n",
    "\n",
    "merged = frames[0]\n",
    "for d in frames[1:]:\n",
    "    merged = merged.merge(d,on='time',how='inner')\n",
    "merged['date'] = merged['time'].dt.normalize()\n",
    "\n",
    "price_cols = [c for c in merged.columns if c.startswith('p_')]\n",
    "daily_close = merged.groupby('date')[price_cols].last()\n",
    "prev_close_by_date = daily_close.shift(1)\n",
    "prev_close_by_date.columns = [c.replace('p_','pc_') for c in prev_close_by_date.columns]\n",
    "\n",
    "#广播到分钟数据\n",
    "merged = merged.merge(prev_close_by_date.reset_index(),on='date',how='left')"
   ],
   "id": "9fb925053e35237c",
   "outputs": [],
   "execution_count": 7
  },
  {
   "metadata": {
    "ExecuteTime": {
     "end_time": "2025-08-13T03:20:39.609193Z",
     "start_time": "2025-08-13T03:19:24.091549Z"
    }
   },
   "cell_type": "code",
   "source": [
    "#计算 OHLC\n",
    "nv_prev =  {f'{a}{b}':NV0 for (a,b) in PAIRS}\n",
    "rows = []\n",
    "\n",
    "for date ,g in merged.groupby('date',sort = True):\n",
    "    row = {'date': date}\n",
    "    for long_t,short_t in PAIRS:\n",
    "        pair = f'{long_t}{short_t}'\n",
    "        # 当日分钟级价格\n",
    "        p_long = g[f'p_{long_t}']\n",
    "        p_short = g[f'p_{short_t}']\n",
    "        # 当日用于定份额的“昨收”（取第一行即可，已通过 merge 广播）\n",
    "        pc_long = g[f'pc_{long_t}'].iloc[0]\n",
    "        pc_short = g[f'pc_{short_t}'].iloc[0]\n",
    "\n",
    "        nv0_pair = nv_prev[pair]\n",
    "\n",
    "        #第一日因为没有昨收，所以一直维持前值\n",
    "        if pd.isna(pc_long) or pd.isna(pc_short):\n",
    "            o = h = l = c = nv0_pair\n",
    "        else:\n",
    "            Rm = (LEVERAGE/2.0)*(p_long/pc_long-p_short/pc_short)\n",
    "            NVm = nv0_pair*(1+Rm)\n",
    "\n",
    "            o = float(NVm.iloc[0])\n",
    "            h = float(NVm.max())\n",
    "            l = float(NVm.min())\n",
    "            c = float(NVm.iloc[-1])\n",
    "\n",
    "            nv_prev[pair] = c\n",
    "                # 输出列：<PAIR>_<CAL_TYPE>_open/high/low/close\n",
    "        row[f'{pair}_open']  = o\n",
    "        row[f'{pair}_high']  = h\n",
    "        row[f'{pair}_low']   = l\n",
    "        row[f'{pair}_close'] = c\n",
    "\n",
    "    rows.append(row)\n",
    "\n",
    "out = pd.DataFrame(rows).sort_values('date')"
   ],
   "id": "200306d3698c9a44",
   "outputs": [],
   "execution_count": 13
  }
 ],
 "metadata": {
  "kernelspec": {
   "display_name": "Python 3",
   "language": "python",
   "name": "python3"
  },
  "language_info": {
   "codemirror_mode": {
    "name": "ipython",
    "version": 2
   },
   "file_extension": ".py",
   "mimetype": "text/x-python",
   "name": "python",
   "nbconvert_exporter": "python",
   "pygments_lexer": "ipython2",
   "version": "2.7.6"
  }
 },
 "nbformat": 4,
 "nbformat_minor": 5
}
