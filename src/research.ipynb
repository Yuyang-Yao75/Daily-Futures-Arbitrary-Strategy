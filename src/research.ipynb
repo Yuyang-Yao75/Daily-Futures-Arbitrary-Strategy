{
 "cells": [
  {
   "metadata": {},
   "cell_type": "code",
   "outputs": [],
   "execution_count": null,
   "source": [
    "# Copyright (c) 2025 Yuyang Yao\n",
    "# SPDX-License-Identifier: PolyForm-Noncommercial-1.0.0"
   ],
   "id": "b9a3bab476458f03"
  },
  {
   "cell_type": "markdown",
   "id": "5e1047153d0249df",
   "metadata": {},
   "source": [
    "### Tips\n",
    "- 仓位的单位是金额而不是份数\n",
    "- 展期收益可以从两个角度来理解\n",
    "    - 当你持有一个期货合约（而非现货）时，所获得的超额收益，就叫做展期收益。\n",
    "    - 展期收益反映了换月时期货合约切换带来的额外收益或损失。\n",
    "\n",
    "    无论怎么理解本质上都是当下的期货价格-现货价格，即当下的升贴水大小，在第两种语境下期货价格收敛于现货价格确保了这一结论的成立。\n",
    "- IH 与 IF 为大盘蓝筹风格；IC 与 IM 为中盘成长风格\n",
    "\n",
    "\n",
    "### 困惑\n",
    "1. 理论上 P3 的表格中应该满足期货收益=指数收益+展期收益，但是实际却接近但不符合这一规律，如何理解。包括累计收益的计算。后续有做复现，不知道理解是否正确。\n",
    "2. 市值因子是什么？如何计算的？为什么说会等资金配置会有很大的市值因子暴露。\n",
    "3. P7为什么说品种间相关性较小时会导致 beta 风险对冲效果不佳。"
   ]
  },
  {
   "cell_type": "markdown",
   "id": "3639ee550f5171df",
   "metadata": {},
   "source": [
    "# 1. 前提假设研究"
   ]
  },
  {
   "cell_type": "code",
   "id": "83c6ad75ed461bf2",
   "metadata": {
    "ExecuteTime": {
     "end_time": "2025-08-18T06:39:23.880716Z",
     "start_time": "2025-08-18T06:39:23.168330Z"
    }
   },
   "source": [
    "import pandas as pd\n",
    "import numpy as np\n",
    "import matplotlib.pyplot as plt\n",
    "from pylab import mpl\n",
    "mpl.rcParams['font.sans-serif'] = ['FZKai-Z03S']\n",
    "mpl.rcParams['axes.unicode_minus'] = False\n",
    "from config import *\n",
    "from data_utils import *"
   ],
   "outputs": [],
   "execution_count": 3
  },
  {
   "cell_type": "markdown",
   "id": "e5986e1d669dbd58",
   "metadata": {},
   "source": [
    "| 代码     | 名称         | 对应指数         | 风格         | 对应ETF代码              |指数代码|\n",
    "| ------ | ---------- | ------------ | ---------- | -------------------- | ----- |\n",
    "| **IF** | 沪深300股指期货  | **沪深300指数**  | 大盘、主流蓝筹    | 510300.SH（华泰柏瑞沪深300） |000300.SH |\n",
    "| **IH** | 上证50股指期货   | **上证50指数**   | 超大盘、金融地产   | 510050.SH（华夏上证50）    |000016.SH |\n",
    "| **IC** | 中证500股指期货  | **中证500指数**  | 中盘成长、广义中小盘 | 510500.SH（南方中证500）   |000905.SH |\n",
    "| **IM** | 中证1000股指期货 | **中证1000指数** | 小盘成长、弹性大   | 512100.SH（中证1000ETF） |000852.SH |\n",
    "\n",
    "\n",
    "- 中证指数作为指数发布方，提供指数；\n",
    "- 各 ETF 发行方（如华夏、华泰柏瑞、南方）复制跟踪该指数；\n",
    "- 在不同交易所（沪深）挂钩的是“ETF”，不是指数本身。\n",
    "\n",
    "✅ 指数值在不同市场是相同的；\n",
    "\n",
    "✅ ETF价格可能不同，因其受交易供需、流动性、折溢价等影响。"
   ]
  },
  {
   "cell_type": "markdown",
   "id": "17e96fdc374adabb",
   "metadata": {},
   "source": [
    "1. 不同股指间本身有一定的相关性：根据折线图直观感受和相关系数矩阵结果可以表明确实四个产品之间具有比较高的相关性，但是根据投资组合理论对于相关性高的产品其实波动率降低能力有限，后续需观察这一现象是否在策略上有体现。\n",
    "2. IH/IF 与 IC/IM 是相关性较高的两个配对：因为 IH 与 IF 都是大盘蓝筹风格，IC 与 IM 都是中小盘成长风格。"
   ]
  },
  {
   "cell_type": "code",
   "execution_count": null,
   "id": "97cf8bc997161cdf",
   "metadata": {},
   "outputs": [],
   "source": [
    "#该部分可以用 pivot_index_data 替换\n",
    "index_df=pd.read_csv(INDEX_DATA)\n",
    "HS300_df=index_df[index_df['thscode']=='000300.SH']\n",
    "ZZ500_df=index_df[index_df['thscode']=='000905.SH']\n",
    "ZZ1000_df=index_df[index_df['thscode']=='000852.SH']\n",
    "SZ50_df=index_df[index_df['thscode']=='000016.SH']\n",
    "index_df = pd.DataFrame({\n",
    "    '000300.SH': HS300_df['close'].reset_index(drop=True),\n",
    "    '000905.SH': ZZ500_df['close'].reset_index(drop=True),\n",
    "    '000852.SH': ZZ1000_df['close'].reset_index(drop=True),\n",
    "    '000016.SH': SZ50_df['close'].reset_index(drop=True)\n",
    "})"
   ]
  },
  {
   "cell_type": "code",
   "execution_count": null,
   "id": "ee32a13b374c306",
   "metadata": {},
   "outputs": [],
   "source": [
    "# 重置index并创建新的DataFrame\n",
    "corr_matrix = index_df.corr()\n",
    "print(corr_matrix)"
   ]
  },
  {
   "cell_type": "markdown",
   "id": "c2a4552305e8785b",
   "metadata": {},
   "source": [
    "3. 不同品种间的升贴水有很大差异，基差可能贡献大部分跨品种组合的收益（这一观点由收益分解结果支持）：本文所提到的这种升贴水差异主要体现在 futures_data 文件的 ICIF、IFIH、IMIC、IMIH 的数值上，这表示的是年化基差率的差异，权重是基于本金计算的。\n",
    "- 理论基础：跨品种套利组合的总收益分解【这一现实情况决定了在进行策略信号构建时需要考虑分开预测大小盘风格于展期收益】\n",
    "    - 指数相对涨跌的收益（style effect，风格轮动）：不同风格（如大盘 vs 小盘、价值 vs 成长）在不同时期表现交替领先或落后，从而形成了可以利用的轮动机会。\n",
    "    - 展期收益（基差收敛带来的收益）：当你持有一个期货合约（而非现货）时，所获得的超额收益，就叫做展期收益，具体来说比如你持有的是期货合约而不是现货，额外多赚了 50 点，这部分就叫展期收益。展期收益 = 期货价格变动 – 现货价格变动，$展期收益=（F_t^{平仓}-F_0^{建仓}）-（S_t-S_0）$，由于平仓期货价格收敛于现货价格，所以展期收益本质上就是基差，即升贴水的值。\n",
    "\n",
    "【份数相同情景】组合总收益=\n",
    "$(F_A^{t_1}-F_A^{t_0})-(F_B^{t_1}-F_B^{t_0})=$\n",
    "\n",
    "$(S_A^{t_1}+基差_A^{t_1}-S_A^{t_0}-基差_A^{t_0})-(S_B^{t_1}+基差_B^{t_1}-S_B^{t_0}-基差_B^{t_0})=$\n",
    "\n",
    "$(S_A^{t_1}-S_A^{t_0})-(S_B^{t_1}-S_B^{t_0})+(基差_A^{t_1}-基差_A^{t_0})-(基差_B^{t_1}-基差_B^{t_0})=$\n",
    "\n",
    "$\\Delta S_A-\\Delta S_B+(基差_A^{t_1}-基差_B^{t_1})-(基差_A^{t_0}-基差_B^{t_0})$\n",
    "\n",
    "- 结论：\n",
    "1. 在实操的时候构建信号将「风格轮动预测」和「基差与指数信号」分开考虑，而后合成为跨品种套利的策略信号。\n",
    "    1. 风格轮动对应的是$\\Delta S_A-\\Delta S_B$部分\n",
    "    2. 如果持有至接近期限，那么$(基差_A^{t_1}-基差_B^{t_1})$会很接近于 0，此时问题的关键在于建仓时的基差的差额\n",
    "2. 因为 IH/IF 与 IC/IM 是两个相关性较高的配对，所以策略也可以被分为同风格的跨品种套利和跨风格的跨品种套利。\n",
    "3. 当金额相同时基差的差转为了基差率的差"
   ]
  },
  {
   "cell_type": "code",
   "execution_count": null,
   "id": "9fdd4e460ca56341",
   "metadata": {},
   "outputs": [],
   "source": [
    "futures_data=pd.read_csv(FUTURES_DATA)\n",
    "futures_df = pd.DataFrame({\n",
    "    'ICIF': futures_data['ICIF'],\n",
    "    'IFIH': futures_data['IFIH'],\n",
    "    'IMIC': futures_data['IMIC'],\n",
    "    'IMIH': futures_data['IMIH']\n",
    "})\n",
    "futures_df.index = futures_data['time']"
   ]
  },
  {
   "cell_type": "markdown",
   "id": "17139d60e76d248e",
   "metadata": {},
   "source": [
    "4. 四个品种的跨品种套利可以有两种基本思路：时间序列和横截面\n",
    "    1. 时间序列的含义是确定组合方式（视作一个资产比如 ICIF ），策略核心在于通过因子择时买入和卖出\n",
    "    2. 横截面思路是组合方式不确定，但是策略持有期固定（未必，待补充），策略核心在于通过因子确定各资产买入权重。"
   ]
  },
  {
   "cell_type": "markdown",
   "id": "7f9d3d594f7d0088",
   "metadata": {},
   "source": [
    "5. 主力合约的收益分解"
   ]
  },
  {
   "cell_type": "code",
   "execution_count": null,
   "id": "572162211ac182d",
   "metadata": {},
   "outputs": [],
   "source": [
    "index_df=pd.read_csv(INDEX_DATA)\n",
    "index_pivot_df=pivot_index_data(index_df,CODE_MAP)\n",
    "futures_df=pd.read_csv(FUTURES_DATA)\n",
    "futures_df['time'] = pd.to_datetime(futures_df['time'])\n",
    "futures_df['IC_LTDATE_NEW']=pd.to_datetime(futures_df['IC_LTDATE_NEW'])\n",
    "futures_df['IF_LTDATE_NEW']=pd.to_datetime(futures_df['IF_LTDATE_NEW'])\n",
    "futures_df['IH_LTDATE_NEW']=pd.to_datetime(futures_df['IH_LTDATE_NEW'])\n",
    "futures_df['IM_LTDATE_NEW']=pd.to_datetime(futures_df['IM_LTDATE_NEW'])\n",
    "total_df= pd.merge(futures_df, index_pivot_df, on='time', how='left')\n",
    "IFIH_df = pd.DataFrame({\n",
    "    'time': total_df['time'],\n",
    "    'index_return': total_df['IF_udy_changeRatio']-total_df['IH_udy_changeRatio'],\n",
    "    'futures_return': total_df['IF_PCT_CHG']-total_df['IH_PCT_CHG'],\n",
    "    'basis_return': total_df['IFIH']/244\n",
    "})\n",
    "IFIH_df['index_nv']=(1+IFIH_df['index_return']).cumprod()\n",
    "IFIH_df['futures_nv']=(1+IFIH_df['futures_return']).cumprod()\n",
    "IFIH_df['basis_nv']=(1+IFIH_df['basis_return']).cumprod()"
   ]
  },
  {
   "cell_type": "markdown",
   "id": "a558483d0a740e4f",
   "metadata": {},
   "source": [
    "# 2. 根据基差构建夸品种套利信号\n",
    "## 2.1 时序思路\n",
    "- 思路：等资金做多一个品种并做空一个品种，根据主力合约年化基差率之差构建跨品种套利仓位信号（具体来说计算差值后取相反数*10）\n",
    "- 起源：跨品种期货收益分解公式，根据公式可知在其他条件不变的情况下，基差率之差越大，收益越大，所以基差率差的大小可以作为一种仓位信号。"
   ]
  },
  {
   "cell_type": "markdown",
   "id": "19e5dc9e2d83b45c",
   "metadata": {},
   "source": [
    "## 2.2 基于波动率中性改进的时序思路\n",
    "- 思路：等资金的一个隐患是有较大的市值风险因子暴露"
   ]
  },
  {
   "cell_type": "markdown",
   "id": "43008aed00ace264",
   "metadata": {},
   "source": [
    "- 所以说整个代码逻辑其实很简单，中间过程是怎么样的无所谓，最终就是要搞明白生成的交易信号是什么？交易信号对应的交易逻辑是什么就可以了！b"
   ]
  },
  {
   "metadata": {},
   "cell_type": "markdown",
   "source": "# 基差收敛特征检验",
   "id": "b777fa74dc490d6a"
  },
  {
   "metadata": {
    "ExecuteTime": {
     "end_time": "2025-08-01T03:11:38.577401Z",
     "start_time": "2025-08-01T03:11:38.127392Z"
    }
   },
   "cell_type": "code",
   "source": [
    "from config import FUTURES_DATA\n",
    "\n",
    "# basis_convergence_analysis.py\n",
    "# 针对股指期货跨品种多空组合的基差收敛性检验 (基于已提供的CSV结构)\n",
    "# 输入：单个 CSV 包含日期和各品种年化基差、开盘价、日涨跌幅列等基础数据\n",
    "# 参数：pair，如 'IMIH'，表示多 IM 空 IH\n",
    "# 支持：ADF 单根检验、分位检验、OLS 回归检验、未来 N 日累计收益计算\n",
    "\n",
    "import pandas as pd\n",
    "import numpy as np\n",
    "import statsmodels.api as sm\n",
    "from statsmodels.tsa.stattools import adfuller\n",
    "\n",
    "\n",
    "def load_data(\n",
    "    csv_file: str,\n",
    "    date_col: str = 'date'\n",
    ") -> pd.DataFrame:\n",
    "    \"\"\"\n",
    "    读取 CSV 并解析日期，返回原始 DataFrame\n",
    "    要求列包含：\n",
    "      * {sym}_ANAL_BASISANNUALYIELD for sym in ['IF','IC','IH','IM']\n",
    "      * {sym}_PCT_CHG for sym in ['IF','IC','IH','IM']\n",
    "    \"\"\"\n",
    "    df = pd.read_csv(csv_file)\n",
    "    df[date_col] = pd.to_datetime(df[date_col], errors='coerce')\n",
    "    df = df.sort_values(date_col).reset_index(drop=True)\n",
    "    return df\n",
    "\n",
    "\n",
    "def compute_pair_series(\n",
    "    df: pd.DataFrame,\n",
    "    pair: str,\n",
    "    date_col: str = 'date'\n",
    ") -> pd.DataFrame:\n",
    "    \"\"\"\n",
    "    根据 pair 参数（如 'IMIH'）生成组合:\n",
    "      basis_diff = IM_ANAL_BASISANNUALYIELD - IH_ANAL_BASISANNUALYIELD\n",
    "      pair_return = IM_PCT_CHG - IH_PCT_CHG\n",
    "    返回含 ['date','basis_diff','pair_return'] 的 DataFrame\n",
    "    \"\"\"\n",
    "    # 提取多空品种标识\n",
    "    sym_long = pair[:2]\n",
    "    sym_short = pair[2:]\n",
    "    # 对应列名\n",
    "    basis_long_col = f\"{sym_long}_ANAL_BASISANNUALYIELD\"\n",
    "    basis_short_col = f\"{sym_short}_ANAL_BASISANNUALYIELD\"\n",
    "    ret_long_col = f\"{sym_long}_PCT_CHG\"\n",
    "    ret_short_col = f\"{sym_short}_PCT_CHG\"\n",
    "    # 检查列是否存在\n",
    "    for col in [basis_long_col, basis_short_col, ret_long_col, ret_short_col]:\n",
    "        if col not in df.columns:\n",
    "            raise ValueError(f\"缺少列 {col}，请检查CSV结构。\")\n",
    "    # 构建结果\n",
    "    out = pd.DataFrame({\n",
    "        date_col: df[date_col],\n",
    "        'basis_diff': df[basis_long_col] - df[basis_short_col],\n",
    "        'pair_return': df[ret_long_col] - df[ret_short_col]\n",
    "    })\n",
    "    return out\n",
    "\n",
    "\n",
    "def compute_forward_return(\n",
    "    df: pd.DataFrame,\n",
    "    ret_col: str = 'pair_return',\n",
    "    days: int = 5,\n",
    "    date_col: str = 'date'\n",
    ") -> pd.DataFrame:\n",
    "    \"\"\"\n",
    "    计算未来 N 日累计收益：\n",
    "      fwd_{days}d = product(1 + ret_{t+1} ... ret_{t+days}) - 1\n",
    "    \"\"\"\n",
    "    df = df.sort_values(date_col).reset_index(drop=True)\n",
    "    rets = df[ret_col].fillna(0).values\n",
    "    fwd = []\n",
    "    for i in range(len(df)):\n",
    "        if i + days < len(df):\n",
    "            cum = np.prod(1 + rets[i+1:i+days+1]) - 1\n",
    "        else:\n",
    "            cum = np.nan\n",
    "        fwd.append(cum)\n",
    "    df[f'fwd_{days}d'] = fwd\n",
    "    return df\n",
    "\n",
    "\n",
    "def adf_test(\n",
    "    series: pd.Series,\n",
    "    **kwargs\n",
    ") -> dict:\n",
    "    \"\"\"\n",
    "    对序列做 ADF 单根检验，返回统计量、p值及关键值\n",
    "    \"\"\"\n",
    "    result = adfuller(series.dropna(), **kwargs)\n",
    "    return {\n",
    "        'Test Statistic': result[0],\n",
    "        'p-value': result[1],\n",
    "        'Lags Used': result[2],\n",
    "        'Observations': result[3],\n",
    "        'Critical Values': result[4]\n",
    "    }\n",
    "\n",
    "\n",
    "def quantile_test(\n",
    "    df: pd.DataFrame,\n",
    "    basis_col: str = 'basis_diff',\n",
    "    fwd_col: str = 'fwd_5d',\n",
    "    n: int = 5\n",
    ") -> pd.DataFrame:\n",
    "    \"\"\"\n",
    "    将 basis_diff 分 n 组，比较各组未来累计收益\n",
    "    \"\"\"\n",
    "    tmp = df.dropna(subset=[basis_col, fwd_col]).copy()\n",
    "    tmp['quantile'] = pd.qcut(tmp[basis_col], n, labels=False)\n",
    "    stats = tmp.groupby('quantile')[fwd_col].agg(['mean','std','count'])\n",
    "    print(\"=== Quantile Test ===\")\n",
    "    print(stats)\n",
    "    return stats\n",
    "\n",
    "\n",
    "def regression_test(\n",
    "    df: pd.DataFrame,\n",
    "    basis_col: str = 'basis_diff',\n",
    "    fwd_col: str = 'fwd_5d'\n",
    ") -> sm.regression.linear_model.RegressionResultsWrapper:\n",
    "    \"\"\"\n",
    "    执行 OLS 回归：fwd ~ basis_diff\n",
    "    \"\"\"\n",
    "    data = df.dropna(subset=[basis_col, fwd_col])\n",
    "    X = sm.add_constant(data[basis_col])\n",
    "    y = data[fwd_col]\n",
    "    model = sm.OLS(y, X).fit()\n",
    "    print(\"=== Regression Test ===\")\n",
    "    print(model.summary())\n",
    "    return model"
   ],
   "id": "93dffe85697b3a9",
   "outputs": [],
   "execution_count": 5
  },
  {
   "metadata": {
    "ExecuteTime": {
     "end_time": "2025-08-01T03:22:05.590620Z",
     "start_time": "2025-08-01T03:22:04.064607Z"
    }
   },
   "cell_type": "code",
   "source": [
    "# 用户配置\n",
    "CSV_FILE = FUTURES_DATA  # 请替换为你的 CSV 文件路径\n",
    "PAIR = 'ICIF'                  # 可选：'IFIH','ICIF','IMIC','IMIH'\n",
    "DAYS = 5                       # 未来 N 日累计收益\n",
    "QUANTILES = 5                  # 分位数\n",
    "\n",
    "# 加载数据\n",
    "df_all = load_data(CSV_FILE)\n",
    "# 构建组合序列\n",
    "df_pair = compute_pair_series(df_all, PAIR)\n",
    "# 计算前瞻收益\n",
    "df_pair = compute_forward_return(df_pair, days=DAYS)\n",
    "\n",
    "# ADF 检验\n",
    "adf_res = adf_test(df_pair['basis_diff'])\n",
    "print(f\"=== ADF Test on Basis Diff for {PAIR} ===\")\n",
    "for k, v in adf_res.items(): print(f\"{k}: {v}\")\n",
    "\n",
    "# 分位检验\n",
    "quant_stats = quantile_test(\n",
    "    df_pair,\n",
    "    basis_col='basis_diff',\n",
    "    fwd_col=f'fwd_{DAYS}d',\n",
    "    n=QUANTILES\n",
    ")\n",
    "\n",
    "# 回归检验\n",
    "model = regression_test(\n",
    "    df_pair,\n",
    "    basis_col='basis_diff',\n",
    "    fwd_col=f'fwd_{DAYS}d'\n",
    ")\n",
    "\n",
    "# 可视化或保存结果可按需添加\n"
   ],
   "id": "cf46a5ff3be07046",
   "outputs": [
    {
     "name": "stdout",
     "output_type": "stream",
     "text": [
      "=== ADF Test on Basis Diff for ICIF ===\n",
      "Test Statistic: -2.5504793516141095\n",
      "p-value: 0.10367007816862411\n",
      "Lags Used: 12\n",
      "Observations: 355\n",
      "Critical Values: {'1%': np.float64(-3.448905534655263), '5%': np.float64(-2.8697161816205705), '10%': np.float64(-2.5711258103550882)}\n",
      "=== Quantile Test ===\n",
      "              mean       std  count\n",
      "quantile                           \n",
      "0        -0.002196  0.022505     73\n",
      "1         0.001149  0.011090     72\n",
      "2         0.002957  0.014225     73\n",
      "3         0.001626  0.017061     72\n",
      "4        -0.007116  0.015449     73\n",
      "=== Regression Test ===\n",
      "                            OLS Regression Results                            \n",
      "==============================================================================\n",
      "Dep. Variable:                 fwd_5d   R-squared:                       0.023\n",
      "Model:                            OLS   Adj. R-squared:                  0.021\n",
      "Method:                 Least Squares   F-statistic:                     8.577\n",
      "Date:                Fri, 01 Aug 2025   Prob (F-statistic):            0.00362\n",
      "Time:                        11:22:05   Log-Likelihood:                 972.64\n",
      "No. Observations:                 363   AIC:                            -1941.\n",
      "Df Residuals:                     361   BIC:                            -1933.\n",
      "Df Model:                           1                                         \n",
      "Covariance Type:            nonrobust                                         \n",
      "==============================================================================\n",
      "                 coef    std err          t      P>|t|      [0.025      0.975]\n",
      "------------------------------------------------------------------------------\n",
      "const         -0.0020      0.001     -2.071      0.039      -0.004      -0.000\n",
      "basis_diff    -0.0003      0.000     -2.929      0.004      -0.000   -9.78e-05\n",
      "==============================================================================\n",
      "Omnibus:                       30.108   Durbin-Watson:                   0.516\n",
      "Prob(Omnibus):                  0.000   Jarque-Bera (JB):               98.791\n",
      "Skew:                          -0.270   Prob(JB):                     3.53e-22\n",
      "Kurtosis:                       5.498   Cond. No.                         10.8\n",
      "==============================================================================\n",
      "\n",
      "Notes:\n",
      "[1] Standard Errors assume that the covariance matrix of the errors is correctly specified.\n"
     ]
    }
   ],
   "execution_count": 8
  },
  {
   "metadata": {
    "ExecuteTime": {
     "end_time": "2025-08-01T08:32:43.951299Z",
     "start_time": "2025-08-01T08:32:43.047954Z"
    }
   },
   "cell_type": "code",
   "source": [
    "futures_data = pd.read_csv(FUTURES_DATA)\n",
    "futures_data['date'] = pd.to_datetime(futures_data['date'])\n",
    "futures_data.set_index('date', inplace=True)\n",
    "\n",
    "symbols = [\"IC\",\"IH\",\"IM\",\"IF\"]\n",
    "for symbol in symbols:\n",
    "    pct_chg_col = f\"{symbol}_PCT_CHG\"\n",
    "    vol_col = f\"{symbol}_vol\"\n",
    "    futures_data[vol_col] = futures_data[pct_chg_col].rolling(window=60).std()\n",
    "\n",
    "futures_data = futures_data.dropna()\n",
    "\n",
    "inv = {sym:1/futures_data[f'{sym}_vol'] for sym in symbols}\n",
    "inv_df = pd.DataFrame(inv)\n",
    "\n",
    "norm_inv = inv_df.div(inv_df.sum(axis=1), axis=0)\n",
    "\n",
    "for symbol in symbols:\n",
    "    yr_basis_col = f'{symbol}_ANAL_BASISANNUALYIELD'\n",
    "    futures_data[f'{symbol}_adjusted_yrbasis'] = norm_inv[symbol] * futures_data[yr_basis_col]\n",
    "\n",
    "yrb_cols = [f'{sym}_ANAL_BASISANNUALYIELD' for sym in symbols]\n",
    "open_cols = [f'{sym}_OPEN' for sym in symbols]\n",
    "adj_cols = [f'{sym}_adjusted_yrbasis' for sym in symbols]\n",
    "\n",
    "futures_data.reset_index(inplace=True)\n",
    "# 为每个 symbol 生成一张小表，然后 concat\n",
    "frames = []\n",
    "for sym in symbols:\n",
    "    tmp = futures_data[['date',\n",
    "            f'{sym}_OPEN',\n",
    "            f'{sym}_ANAL_BASISANNUALYIELD',\n",
    "            f'{sym}_adjusted_yrbasis']].copy()\n",
    "    tmp['symbol'] = sym\n",
    "    tmp = tmp.rename(columns={\n",
    "        f'{sym}_OPEN':                'open',\n",
    "        f'{sym}_ANAL_BASISANNUALYIELD':'yrbasis',\n",
    "        f'{sym}_adjusted_yrbasis':    'adjusted_yrbasis'\n",
    "    })\n",
    "    frames.append(tmp)\n",
    "\n",
    "df_final = pd.concat(frames, ignore_index=True)\n",
    "\n",
    "# 重排一下列顺序\n",
    "df_final = df_final[['date','symbol','open','yrbasis','adjusted_yrbasis']]"
   ],
   "id": "7cf8c4fb36e9193b",
   "outputs": [],
   "execution_count": 19
  },
  {
   "metadata": {},
   "cell_type": "markdown",
   "source": "# 数据临时处理",
   "id": "270452ef9aa48886"
  },
  {
   "metadata": {
    "ExecuteTime": {
     "end_time": "2025-08-12T02:27:22.258757Z",
     "start_time": "2025-08-12T02:27:15.031430Z"
    }
   },
   "cell_type": "code",
   "source": [
    "#参数设定\n",
    "import os\n",
    "import pandas as pd\n",
    "CODE_MAP = {\n",
    "    '000852.SH': 'IM',  # 中证1000指数 -> IM期货\n",
    "    '000905.SH': 'IC',  # 中证500指数 -> IC期货\n",
    "    '000300.SH': 'IF',  # 沪深300指数 -> IF期货\n",
    "    '000016.SH': 'IH',  # 上证50指数 -> IH期货\n",
    "}\n",
    "PROJECT_PATH = \"/Users/yaoyuyang/Desktop/Code/daily_futures_arbitrary_strategy/src\"\n",
    "DATA_PATH = os.path.abspath(os.path.join(PROJECT_PATH, \"..\",'data'))\n",
    "RAW_DATA_PATH=os.path.join(DATA_PATH, 'raw')\n",
    "FILES = {\n",
    "    '000852.SH':'000852.csv',\n",
    "    '000905.SH':'000905.csv',\n",
    "    '000300.SH':'000300.csv',\n",
    "    '000016.SH':'000016.csv'\n",
    "}\n",
    "CAL_TYPE = \"udy\"\n",
    "PAIRS = [('IM','IC'), ('IM','IF'), ('IM','IH'),\n",
    "        ('IC','IF'), ('IC','IH'),\n",
    "        ('IF','IH')]"
   ],
   "id": "36d6c12ab8ab4ed3",
   "outputs": [
    {
     "name": "stdout",
     "output_type": "stream",
     "text": [
      "                 date  IMIC_udy  IMIF_udy  IMIH_udy  ICIF_udy  ICIH_udy  \\\n",
      "0 2014-10-17 09:30:00  1.000000  1.000000  1.000000  1.000000  1.000000   \n",
      "1 2014-10-17 09:31:00  0.999826  0.999047  1.000178  0.999221  1.000352   \n",
      "2 2014-10-17 09:32:00  0.999484  0.999277  1.000185  0.999793  1.000701   \n",
      "3 2014-10-17 09:33:00  0.999749  0.999990  1.001319  1.000240  1.001570   \n",
      "4 2014-10-17 09:34:00  0.999913  1.000923  1.002706  1.001011  1.002794   \n",
      "5 2014-10-17 09:35:00  1.000348  1.001220  1.002997  1.000872  1.002648   \n",
      "6 2014-10-17 09:36:00  1.000574  1.001699  1.003678  1.001125  1.003103   \n",
      "7 2014-10-17 09:37:00  1.000857  1.001458  1.002993  1.000601  1.002135   \n",
      "8 2014-10-17 09:38:00  1.001008  1.000967  1.002342  0.999959  1.001333   \n",
      "9 2014-10-17 09:39:00  1.000889  0.998798  0.999524  0.997911  0.998636   \n",
      "\n",
      "   IFIH_udy  \n",
      "0  1.000000  \n",
      "1  1.001131  \n",
      "2  1.000908  \n",
      "3  1.001328  \n",
      "4  1.001781  \n",
      "5  1.001774  \n",
      "6  1.001975  \n",
      "7  1.001532  \n",
      "8  1.001374  \n",
      "9  1.000728  \n"
     ]
    }
   ],
   "execution_count": 1
  },
  {
   "metadata": {
    "ExecuteTime": {
     "end_time": "2025-08-12T02:27:28.614168Z",
     "start_time": "2025-08-12T02:27:28.387737Z"
    }
   },
   "cell_type": "code",
   "source": [
    "#分钟级调仓\n",
    "frames = []\n",
    "for code, fname in FILES.items():\n",
    "    path = os.path.join(RAW_DATA_PATH, fname)\n",
    "    df = pd.read_csv(path)\n",
    "\n",
    "    # 基本检查\n",
    "    needed = {'time','thscode','close','pct_change'}\n",
    "    missing = needed - set(df.columns)\n",
    "    if missing:\n",
    "        raise ValueError(f\"{fname} 缺少列: {missing}\")\n",
    "\n",
    "    # 规范时间、排序\n",
    "    df = df.copy()\n",
    "    df['time'] = pd.to_datetime(df['time'])\n",
    "    df = df.sort_values('time')\n",
    "\n",
    "    ticker = CODE_MAP[code]  # IM/IC/IF/IH\n",
    "    df = df[['time','pct_change']].rename(columns={'pct_change': f'r_{ticker}'})\n",
    "    frames.append(df)\n",
    "\n",
    "# ===== 合并：基于 time 内连接（题设称 time 完全一致，这里仍做 inner 以确保对齐）=====\n",
    "merged = frames[0]\n",
    "for d in frames[1:]:\n",
    "    merged = merged.merge(d, on='time', how='inner')\n",
    "\n",
    "# ===== 计算6个组合的累计净值并首日归一 =====\n",
    "out = pd.DataFrame()\n",
    "out['date'] = merged['time']\n",
    "\n",
    "for long_t, short_t in PAIRS:\n",
    "    diff = merged[f'r_{long_t}'] - merged[f'r_{short_t}']     # r_long - r_short\n",
    "    cum_nv = (1.0 + diff).cumprod()\n",
    "    series = cum_nv / cum_nv.iloc[0]\n",
    "    col_name = f\"{long_t}{short_t}_{CAL_TYPE}\"                # 例如 IMIC_udy\n",
    "    out[col_name] = series.values\n",
    "\n",
    "# ===== 按要求的列顺序导出 =====\n",
    "ordered_cols = ['date', 'IMIC_udy', 'IMIF_udy', 'IMIH_udy', 'ICIF_udy', 'ICIH_udy', 'IFIH_udy']\n",
    "out = out[ordered_cols]\n",
    "\n",
    "print(out.head(10))"
   ],
   "id": "6bbf594f7df09603",
   "outputs": [
    {
     "name": "stdout",
     "output_type": "stream",
     "text": [
      "已写出日频OHLC： pair_udy_ohlc.csv\n",
      "        date  IMIC_open  IMIC_high  IMIC_low  IMIC_close  IMIF_open  \\\n",
      "0 2014-10-17   1.000000   1.001008  0.996008    0.997040   1.000000   \n",
      "1 2014-10-20   0.996094   0.998945  0.996092    0.998750   0.989665   \n",
      "2 2014-10-21   0.998492   1.000017  0.998054    0.999540   1.001370   \n",
      "3 2014-10-22   0.999965   1.001184  0.999124    0.999124   1.000690   \n",
      "4 2014-10-23   0.998366   0.998781  0.996485    0.997589   0.993431   \n",
      "5 2014-10-24   0.997214   0.997980  0.995283    0.995443   0.987516   \n",
      "6 2014-10-27   0.995501   0.999155  0.995002    0.999024   0.995356   \n",
      "7 2014-10-28   0.999404   1.002842  0.999404    1.001081   1.013083   \n",
      "8 2014-10-29   1.000847   1.004884  1.000847    1.000985   1.017896   \n",
      "9 2014-10-30   1.001827   1.002288  0.999978    0.999987   1.018102   \n",
      "\n",
      "   IMIF_high  IMIF_low  IMIF_close  IMIH_open  ...  ICIF_low  ICIF_close  \\\n",
      "0   1.001699  0.983100    0.990739   1.000000  ...  0.987042    0.993682   \n",
      "1   1.001081  0.989665    1.001081   0.988801  ...  0.993548    1.002335   \n",
      "2   1.003685  1.000427    1.001394   1.003569  ...  1.000744    1.001853   \n",
      "3   1.002484  0.994337    0.995031   1.001297  ...  0.994421    0.995901   \n",
      "4   0.993659  0.983879    0.988290   0.990177  ...  0.986911    0.990675   \n",
      "5   0.993516  0.987516    0.992359   0.981973  ...  0.990272    0.996897   \n",
      "6   1.012458  0.994901    1.012434   0.990740  ...  0.999849    1.013417   \n",
      "7   1.021511  1.013083    1.018305   1.013044  ...  1.013682    1.017199   \n",
      "8   1.025028  1.017023    1.017389   1.020934  ...  1.013822    1.016379   \n",
      "9   1.021771  1.009319    1.009319   1.021910  ...  1.009231    1.009323   \n",
      "\n",
      "   ICIH_open  ICIH_high  ICIH_low  ICIH_close  IFIH_open  IFIH_high  IFIH_low  \\\n",
      "0   1.000000   1.003103  0.983821    0.993345   1.000000   1.001975  0.996228   \n",
      "1   0.992681   1.004881  0.992681    1.004881   0.999139   1.002555  0.999139   \n",
      "2   1.005086   1.007324  1.001163    1.002853   1.002213   1.003238  1.000397   \n",
      "3   1.001330   1.003634  0.991699    0.993144   1.000628   1.001691  0.997141   \n",
      "4   0.991798   0.992243  0.979659    0.985168   0.996753   0.997495  0.992460   \n",
      "5   0.984714   0.991710  0.984368    0.991142   0.994419   0.995231  0.993230   \n",
      "6   0.995213   1.013627  0.995213    1.013374   0.995401   1.000318  0.995174   \n",
      "7   1.013642   1.022870  1.013642    1.020774   1.000003   1.003690  1.000003   \n",
      "8   1.020063   1.025826  1.016884    1.020023   1.003030   1.005068  1.002603   \n",
      "9   1.020038   1.025477  1.013000    1.013437   1.003788   1.007242  1.003598   \n",
      "\n",
      "   IFIH_close  \n",
      "0    0.999672  \n",
      "1    1.002555  \n",
      "2    1.001018  \n",
      "3    0.997258  \n",
      "4    0.994472  \n",
      "5    0.994262  \n",
      "6    0.999999  \n",
      "7    1.003560  \n",
      "8    1.003633  \n",
      "9    1.004129  \n",
      "\n",
      "[10 rows x 25 columns]\n"
     ]
    }
   ],
   "execution_count": 2
  },
  {
   "metadata": {},
   "cell_type": "code",
   "outputs": [],
   "execution_count": null,
   "source": [
    "# ===== 将信号按天聚合为OHLC（开=每日首值，高=每日最大，低=每日最小，收=每日末值）=====\n",
    "agg_dict = {}\n",
    "for pair in ['IMIC', 'IMIF', 'IMIH', 'ICIF', 'ICIH', 'IFIH']:\n",
    "    col = f\"{pair}_udy\"\n",
    "    agg_dict[col] = ['first', 'max', 'min', 'last']\n",
    "\n",
    "# 按 date 分组聚合\n",
    "daily = out.groupby(out['date'].dt.floor('D')).agg(agg_dict)\n",
    "daily.index.name = 'date'\n",
    "# 扁平化列名 -> 例如 (\"IMIC_udy\", \"first\") -> \"IMIC_open\"\n",
    "name_map = {'first': 'open', 'max': 'high', 'min': 'low', 'last': 'close'}\n",
    "daily.columns = [f\"{col.replace('_udy','')}_{name_map[fn]}\" for col, fn in daily.columns]\n",
    "\n",
    "daily = daily.reset_index()\n",
    "\n",
    "# 按指定顺序排列列名（共25列）\n",
    "ordered_daily_cols = [\n",
    "    'date',\n",
    "    'IMIC_open','IMIC_high','IMIC_low','IMIC_close',\n",
    "    'IMIF_open','IMIF_high','IMIF_low','IMIF_close',\n",
    "    'IMIH_open','IMIH_high','IMIH_low','IMIH_close',\n",
    "    'ICIF_open','ICIF_high','ICIF_low','ICIF_close',\n",
    "    'ICIH_open','ICIH_high','ICIH_low','ICIH_close',\n",
    "    'IFIH_open','IFIH_high','IFIH_low','IFIH_close'\n",
    "]\n",
    "\n",
    "# 只保留上面定义的列顺序（若某列缺失会抛错，便于及早发现问题）\n",
    "daily = daily[ordered_daily_cols]\n",
    "\n",
    "# 输出新的日频OHLC表\n",
    "DAILY_OHLC_CSV = \"pair_udy_ohlc.csv\"\n",
    "daily.to_csv(DAILY_OHLC_CSV, index=False)\n",
    "print(\"已写出日频OHLC：\", DAILY_OHLC_CSV)\n",
    "print(daily.head(10))"
   ],
   "id": "9bd476da911efae9"
  },
  {
   "metadata": {},
   "cell_type": "markdown",
   "source": "# 多策略综合配置研究",
   "id": "8e05cf25cb668aa7"
  },
  {
   "metadata": {
    "ExecuteTime": {
     "end_time": "2025-08-04T02:42:44.511311Z",
     "start_time": "2025-08-04T02:42:44.409728Z"
    }
   },
   "cell_type": "code",
   "source": [
    "from data_utils import *\n",
    "combined_df = get_concat_nv_data()"
   ],
   "id": "9b01a986f2d3bc75",
   "outputs": [],
   "execution_count": 2
  },
  {
   "metadata": {
    "ExecuteTime": {
     "end_time": "2025-08-04T02:51:44.102479Z",
     "start_time": "2025-08-04T02:51:44.083935Z"
    }
   },
   "cell_type": "code",
   "source": "df_corr = combined_df.drop(columns=['date']).corr()",
   "id": "8113fb01fd936d8f",
   "outputs": [],
   "execution_count": 10
  },
  {
   "metadata": {
    "ExecuteTime": {
     "end_time": "2025-08-04T02:52:19.499083Z",
     "start_time": "2025-08-04T02:52:19.483888Z"
    }
   },
   "cell_type": "code",
   "source": [
    "combined_return_df = combined_df.drop(columns=['date']).pct_change()\n",
    "combined_return_df['date']=combined_df['date']\n",
    "combined_return_df=combined_return_df.dropna()"
   ],
   "id": "1aca970fdfb969a5",
   "outputs": [],
   "execution_count": 11
  },
  {
   "metadata": {
    "ExecuteTime": {
     "end_time": "2025-08-04T02:54:34.934092Z",
     "start_time": "2025-08-04T02:54:34.910512Z"
    }
   },
   "cell_type": "code",
   "source": "df_return_corr = combined_return_df.drop(columns=['date']).corr()",
   "id": "2f76d42c344e31f2",
   "outputs": [],
   "execution_count": 13
  },
  {
   "metadata": {
    "ExecuteTime": {
     "end_time": "2025-08-04T02:58:01.590547Z",
     "start_time": "2025-08-04T02:58:01.534914Z"
    }
   },
   "cell_type": "code",
   "source": [
    "test_a = combined_return_df.drop(columns=['IMIF_nv','IMIH_nv'])\n",
    "test_a_corr = test_a.drop(columns=['date']).corr()"
   ],
   "id": "561709a0788db2e2",
   "outputs": [],
   "execution_count": 15
  },
  {
   "metadata": {
    "ExecuteTime": {
     "end_time": "2025-08-04T02:58:06.404656Z",
     "start_time": "2025-08-04T02:58:06.387804Z"
    }
   },
   "cell_type": "code",
   "source": [
    "test_b = test_a.drop(columns = ['ICIH_nv'])\n",
    "test_b_corr = test_b.drop(columns=['date']).corr()"
   ],
   "id": "5a228a53788118db",
   "outputs": [],
   "execution_count": 17
  },
  {
   "metadata": {
    "ExecuteTime": {
     "end_time": "2025-08-04T03:05:35.363429Z",
     "start_time": "2025-08-04T03:05:33.719353Z"
    }
   },
   "cell_type": "code",
   "source": [
    "test_c = test_a.drop(columns = ['ICIF_nv'])\n",
    "test_c_corr = test_c.drop(columns=['date']).corr()"
   ],
   "id": "474ba95617b2ccb5",
   "outputs": [],
   "execution_count": 18
  },
  {
   "metadata": {
    "ExecuteTime": {
     "end_time": "2025-08-04T03:11:18.548369Z",
     "start_time": "2025-08-04T03:11:18.357335Z"
    }
   },
   "cell_type": "code",
   "source": [
    "import matplotlib.pyplot as plt\n",
    "import matplotlib\n",
    "# plt.rcParams['font.sans-serif'] = ['simsun']  # 中文字体\n",
    "from pylab import mpl\n",
    "mpl.rcParams['font.sans-serif'] = ['FZKai-Z03S']\n",
    "mpl.rcParams['axes.unicode_minus'] = False\n",
    "matplotlib.rcParams.update({'font.size': 16})"
   ],
   "id": "33235ba6ae3cc3b0",
   "outputs": [
    {
     "data": {
      "text/plain": [
       "<Figure size 1000x600 with 1 Axes>"
      ],
      "image/png": "[encoded data removed]"
     },
     "metadata": {},
     "output_type": "display_data"
    }
   ],
   "execution_count": 21
  },
  {
   "metadata": {
    "ExecuteTime": {
     "end_time": "2025-08-04T03:19:04.045329Z",
     "start_time": "2025-08-04T03:19:04.033595Z"
    }
   },
   "cell_type": "code",
   "source": [
    "plot_df = combined_df[['date','IMIC_nv','ICIF_nv','IFIH_nv']].copy()\n",
    "plot_df['date'] = pd.to_datetime(plot_df['date'])\n",
    "plt.figure(figsize=(10,6))\n",
    "\n",
    "plt.plot(plot_df['date'],plot_df['ICIF_nv'],label = 'IC_IF',color = 'red',linewidth = 2.5)\n",
    "plt.plot(plot_df['date'],plot_df['IFIH_nv'],label = 'IF_IH',color = 'gray',linewidth = 2.5)\n",
    "plt.plot(plot_df['date'],plot_df['IMIC_nv'],label = 'IM_IH',color = 'pink',linewidth = 2.5,linestyle = '--')\n",
    "\n",
    "plt.legend(loc='upper left',fontsize=12)\n",
    "# 坐标轴与样式\n",
    "plt.ylim(0.8, plot_df[['IMIC_nv','ICIF_nv','IFIH_nv']].max().max()*1.05)\n",
    "plt.xticks(rotation=45)\n",
    "plt.grid(False)\n",
    "# 去掉顶部和右边边框\n",
    "for spine in ['top', 'right']:\n",
    "    plt.gca().spines[spine].set_visible(False)\n",
    "\n",
    "# 设置标题和坐标轴\n",
    "plt.ylabel('Net Value')\n",
    "plt.tight_layout()\n",
    "plt.show()"
   ],
   "id": "7da8a74b12877e68",
   "outputs": [],
   "execution_count": 23
  },
  {
   "metadata": {
    "ExecuteTime": {
     "end_time": "2025-08-04T05:22:43.033552Z",
     "start_time": "2025-08-04T05:22:43.023262Z"
    }
   },
   "cell_type": "code",
   "source": [
    "IMIC_std = test_b['IMIC_nv'].std()\n",
    "ICIF_std = test_b['ICIF_nv'].std()\n",
    "IFIH_std = test_b['IFIH_nv'].std()"
   ],
   "id": "bed929a63e3f073",
   "outputs": [
    {
     "data": {
      "text/plain": [
       "np.float64(0.040641949754279816)"
      ]
     },
     "execution_count": 29,
     "metadata": {},
     "output_type": "execute_result"
    }
   ],
   "execution_count": 29
  },
  {
   "metadata": {},
   "cell_type": "code",
   "outputs": [],
   "execution_count": null,
   "source": [
    "import numpy as np\n",
    "IFIH_std*np.sqrt(244)"
   ],
   "id": "47e538cd4ac52dea"
  },
  {
   "metadata": {},
   "cell_type": "markdown",
   "source": "## 策略复现",
   "id": "adb58a8814bb5f8a"
  },
  {
   "metadata": {
    "ExecuteTime": {
     "end_time": "2025-08-18T06:35:12.061085Z",
     "start_time": "2025-08-18T06:35:10.638946Z"
    }
   },
   "cell_type": "code",
   "source": [
    "from data_utils import *\n",
    "combined_df = get_concat_nv_data()\n",
    "backtest_df = combined_df[['date','IMIC_nv','ICIF_nv','IFIH_nv']].copy()\n",
    "backtest_df.set_index(\"date\",inplace = True)\n",
    "nv_cols = [c for c in backtest_df.columns if c.endswith('_nv')]\n",
    "ret = backtest_df[nv_cols].pct_change()\n",
    "vol = ret.rolling(window=60).std()\n",
    "inv_vol = 1/vol\n",
    "weights = inv_vol.div(inv_vol.sum(axis=1),axis=0)\n",
    "# 为避免未来函数（look-ahead），所有权重往后移一格\n",
    "weights = weights.shift(1).dropna()\n",
    "port_ret = (weights * ret.loc[weights.index]).sum(axis=1)\n",
    "backtest_df['portfolio_nv'] = (1 + port_ret).cumprod()\n",
    "backtest_df.dropna(subset=['portfolio_nv'], inplace=True)\n",
    "backtest_df = backtest_df.div(backtest_df.iloc[0])\n"
   ],
   "id": "f166d8a7f7c90536",
   "outputs": [],
   "execution_count": 1
  },
  {
   "metadata": {
    "ExecuteTime": {
     "end_time": "2025-08-18T06:39:29.055554Z",
     "start_time": "2025-08-18T06:39:28.804278Z"
    }
   },
   "cell_type": "code",
   "source": [
    "plot_df = backtest_df.copy().reset_index()\n",
    "plot_df['date'] = pd.to_datetime(plot_df['date'])\n",
    "\n",
    "plt.figure(figsize=(10,6))\n",
    "\n",
    "# 各策略净值曲线\n",
    "plt.plot(plot_df['date'], plot_df['ICIF_nv'], label='IC_IF', color='red', linewidth=2.5)\n",
    "plt.plot(plot_df['date'], plot_df['IFIH_nv'], label='IF_IH', color='gray', linewidth=2.5)\n",
    "plt.plot(plot_df['date'], plot_df['IMIC_nv'], label='IM_IH', color='pink', linewidth=2.5, linestyle='--')\n",
    "plt.plot(plot_df['date'], plot_df['portfolio_nv'], label='Portfolio', color='blue', linewidth=2.5, linestyle='-.')\n",
    "\n",
    "# 图例\n",
    "plt.legend(loc='upper left', fontsize=12)\n",
    "\n",
    "# 坐标轴范围\n",
    "ymax = plot_df[['IMIC_nv','ICIF_nv','IFIH_nv','portfolio_nv']].max().max()\n",
    "plt.ylim(0.8, ymax * 1.05)\n",
    "\n",
    "# 样式设置\n",
    "plt.xticks(rotation=45)\n",
    "plt.grid(False)\n",
    "for spine in ['top', 'right']:\n",
    "    plt.gca().spines[spine].set_visible(False)\n",
    "\n",
    "# 标题和坐标轴\n",
    "plt.ylabel('Net Value')\n",
    "plt.tight_layout()\n",
    "plt.show()\n"
   ],
   "id": "d86447065ea6179d",
   "outputs": [
    {
     "data": {
      "text/plain": [
       "<Figure size 1000x600 with 1 Axes>"
      ],
      "image/png": "[encoded data removed]"
     },
     "metadata": {},
     "output_type": "display_data"
    }
   ],
   "execution_count": 4
  },
  {
   "metadata": {
    "ExecuteTime": {
     "end_time": "2025-08-18T06:39:38.233870Z",
     "start_time": "2025-08-18T06:39:34.343278Z"
    }
   },
   "cell_type": "code",
   "source": [
    "from pybroker.eval import (\n",
    "    sharpe_ratio, sortino_ratio, max_drawdown_percent,\n",
    "    calmar_ratio, ulcer_index, upi,\n",
    ")\n",
    "\n",
    "nav = backtest_df['portfolio_nv']  # pandas.Series，索引为时间戳；值为净值\n",
    "returns = nav.pct_change().dropna().values  # numpy.ndarray\n",
    "\n",
    "sharpe = sharpe_ratio(returns, obs=252)\n",
    "sortino = sortino_ratio(returns, obs=252)\n",
    "maxdd_pct, maxdd_idx = max_drawdown_percent(returns)\n",
    "calmar = calmar_ratio(returns,bars_per_year=252)\n",
    "ui = ulcer_index(returns)\n",
    "upi_val = upi(returns)\n",
    "\n",
    "print(dict(\n",
    "    sharpe=sharpe,\n",
    "    sortino=sortino,\n",
    "    maxdd_pct=maxdd_pct * 100,\n",
    "    maxdd_date=nav.index[maxdd_idx],\n",
    "    calmar=calmar,\n",
    "    ulcer_index=ui,\n",
    "    upi=upi_val\n",
    "))\n"
   ],
   "id": "b25f8e4fffd2a92f",
   "outputs": [
    {
     "name": "stdout",
     "output_type": "stream",
     "text": [
      "{'sharpe': 1.1199413537092753, 'sortino': 1.7243921469526484, 'maxdd_pct': -299.3041988858658, 'maxdd_date': Timestamp('2024-06-18 00:00:00'), 'calmar': np.float64(1.3266157673137697), 'ulcer_index': 118.62780446511891, 'upi': -0.9760615062738924}\n"
     ]
    }
   ],
   "execution_count": 5
  },
  {
   "metadata": {},
   "cell_type": "markdown",
   "source": "## 全部策略",
   "id": "ad24038833e7bb58"
  },
  {
   "metadata": {
    "ExecuteTime": {
     "end_time": "2025-08-18T06:52:48.612639Z",
     "start_time": "2025-08-18T06:52:48.503632Z"
    }
   },
   "cell_type": "code",
   "source": [
    "backtest_df_total = combined_df.copy()\n",
    "backtest_df_total.set_index(\"date\",inplace = True)\n",
    "nv_cols_total = [c for c in backtest_df_total.columns if c.endswith('_nv')]\n",
    "ret_total = backtest_df_total[nv_cols_total].pct_change()\n",
    "vol_total = ret_total.rolling(window=60).std()\n",
    "inv_vol_total = 1/vol_total\n",
    "weights_total = inv_vol_total.div(inv_vol_total.sum(axis=1),axis=0)\n",
    "# 为避免未来函数（look-ahead），所有权重往后移一格\n",
    "weights_total = weights_total.shift(1).dropna()\n",
    "port_ret_total = (weights_total * ret_total.loc[weights_total.index]).sum(axis=1)\n",
    "backtest_df_total['portfolio_nv'] = (1 + port_ret_total).cumprod()\n",
    "backtest_df_total.dropna(subset=['portfolio_nv'], inplace=True)\n",
    "backtest_df_total = backtest_df_total.div(backtest_df_total.iloc[0])\n"
   ],
   "id": "f2fb40c46f75b476",
   "outputs": [],
   "execution_count": 6
  },
  {
   "metadata": {
    "ExecuteTime": {
     "end_time": "2025-08-18T06:52:51.189717Z",
     "start_time": "2025-08-18T06:52:50.622907Z"
    }
   },
   "cell_type": "code",
   "source": [
    "plot_df_total = backtest_df_total.copy().reset_index()\n",
    "plot_df_total['date'] = pd.to_datetime(plot_df_total['date'])\n",
    "\n",
    "plt.figure(figsize=(10,6))\n",
    "\n",
    "plt.plot(plot_df_total['date'], plot_df_total['portfolio_nv'], label='Portfolio', color='blue', linewidth=2.5, linestyle='-.')\n",
    "\n",
    "# 图例\n",
    "plt.legend(loc='upper left', fontsize=12)\n",
    "\n",
    "# 坐标轴范围\n",
    "ymax = plot_df_total[['portfolio_nv']].max().max()\n",
    "plt.ylim(0.8, ymax * 1.05)\n",
    "\n",
    "# 样式设置\n",
    "plt.xticks(rotation=45)\n",
    "plt.grid(False)\n",
    "for spine in ['top', 'right']:\n",
    "    plt.gca().spines[spine].set_visible(False)\n",
    "\n",
    "# 标题和坐标轴\n",
    "plt.ylabel('Net Value')\n",
    "plt.tight_layout()\n",
    "plt.show()\n"
   ],
   "id": "bef6768afa9c3cbc",
   "outputs": [
    {
     "data": {
      "text/plain": [
       "<Figure size 1000x600 with 1 Axes>"
      ],
      "image/png": "[encoded data removed]"
     },
     "metadata": {},
     "output_type": "display_data"
    }
   ],
   "execution_count": 7
  },
  {
   "metadata": {
    "ExecuteTime": {
     "end_time": "2025-08-18T06:52:54.690485Z",
     "start_time": "2025-08-18T06:52:54.644224Z"
    }
   },
   "cell_type": "code",
   "source": [
    "from pybroker.eval import (\n",
    "    sharpe_ratio, sortino_ratio, max_drawdown_percent,\n",
    "    calmar_ratio, ulcer_index, upi,\n",
    ")\n",
    "\n",
    "nav = backtest_df_total['portfolio_nv']  # pandas.Series，索引为时间戳；值为净值\n",
    "returns = nav.pct_change().dropna().values  # numpy.ndarray\n",
    "\n",
    "sharpe = sharpe_ratio(returns, obs=252)\n",
    "sortino = sortino_ratio(returns, obs=252)\n",
    "maxdd_pct, maxdd_idx = max_drawdown_percent(returns)\n",
    "calmar = calmar_ratio(returns,bars_per_year=252)\n",
    "ui = ulcer_index(returns)\n",
    "upi_val = upi(returns)\n",
    "ann_r=returns.mean()*252\n",
    "\n",
    "print(dict(\n",
    "    ann_r = ann_r,\n",
    "    sharpe=sharpe,\n",
    "    sortino=sortino,\n",
    "    maxdd_pct=maxdd_pct * 100,\n",
    "    maxdd_date=nav.index[maxdd_idx],\n",
    "    calmar=calmar,\n",
    "    ulcer_index=ui,\n",
    "    upi=upi_val\n",
    "))\n"
   ],
   "id": "5b5e3902705e3c8d",
   "outputs": [
    {
     "name": "stdout",
     "output_type": "stream",
     "text": [
      "{'ann_r': np.float64(0.036348857953819626), 'sharpe': 0.6475534754356426, 'sortino': 0.962703472680589, 'maxdd_pct': -490.000667758006, 'maxdd_date': Timestamp('2024-09-30 00:00:00'), 'calmar': np.float64(0.7321245386129545), 'ulcer_index': 121.29922952046564, 'upi': 0.24319271329105874}\n"
     ]
    }
   ],
   "execution_count": 8
  },
  {
   "metadata": {},
   "cell_type": "markdown",
   "source": "## 等权重",
   "id": "67ca80adb0541911"
  },
  {
   "metadata": {
    "ExecuteTime": {
     "end_time": "2025-08-18T06:52:57.578662Z",
     "start_time": "2025-08-18T06:52:57.532947Z"
    }
   },
   "cell_type": "code",
   "source": [
    "# backtest_df_equal= combined_df[['date','IMIC_nv','ICIF_nv','IFIH_nv']].copy()\n",
    "backtest_df_equal= combined_df.copy()\n",
    "backtest_df_equal.set_index(\"date\", inplace=True)\n",
    "\n",
    "# 获取净值列\n",
    "nv_cols_equal = [c for c in backtest_df_equal.columns if c.endswith('_nv')]\n",
    "\n",
    "# 计算收益率\n",
    "ret_equal = backtest_df_equal[nv_cols_equal].pct_change()\n",
    "\n",
    "# 创建等权重矩阵\n",
    "# 每个时间点的权重都相等：1/N\n",
    "num_assets = len(nv_cols_equal)\n",
    "equal_weights = pd.DataFrame(\n",
    "    1 / num_assets,\n",
    "    index=ret_equal.index,\n",
    "    columns=nv_cols_equal\n",
    ")\n",
    "weights_equal = equal_weights.dropna()\n",
    "\n",
    "# 计算投资组合收益率\n",
    "port_ret_equal = (weights_equal * ret_equal.loc[weights_equal.index]).sum(axis=1)\n",
    "\n",
    "# 计算投资组合净值\n",
    "backtest_df_equal['portfolio_nv'] = (1 + port_ret_equal).cumprod()\n",
    "\n",
    "# 删除缺失值并归一化（第一天为 1）\n",
    "backtest_df_equal.dropna(subset=['portfolio_nv'], inplace=True)\n",
    "backtest_df_equal = backtest_df_equal.div(backtest_df_equal.iloc[0])\n"
   ],
   "id": "2a26d7d62dee775d",
   "outputs": [],
   "execution_count": 9
  },
  {
   "metadata": {
    "ExecuteTime": {
     "end_time": "2025-08-18T06:53:06.231513Z",
     "start_time": "2025-08-18T06:53:06.053483Z"
    }
   },
   "cell_type": "code",
   "source": [
    "plot_df_equal = backtest_df_equal.copy().reset_index()\n",
    "plot_df_equal['date'] = pd.to_datetime(plot_df_equal['date'])\n",
    "\n",
    "plt.figure(figsize=(10,6))\n",
    "\n",
    "# plt.plot(plot_df_equal['date'], plot_df_equal['ICIF_nv'], label='IC_IF', color='red', linewidth=2.5)\n",
    "# plt.plot(plot_df_equal['date'], plot_df_equal['IFIH_nv'], label='IF_IH', color='gray', linewidth=2.5)\n",
    "# plt.plot(plot_df_equal['date'], plot_df_equal['IMIC_nv'], label='IM_IH', color='pink', linewidth=2.5, linestyle='--')\n",
    "plt.plot(plot_df_equal['date'], plot_df_equal['portfolio_nv'], label='Portfolio', color='blue', linewidth=2.5, linestyle='-.')\n",
    "\n",
    "# 图例\n",
    "plt.legend(loc='upper left', fontsize=12)\n",
    "\n",
    "# 坐标轴范围\n",
    "ymax = plot_df_equal[['portfolio_nv']].max().max()\n",
    "plt.ylim(0.8, ymax * 1.05)\n",
    "\n",
    "# 样式设置\n",
    "plt.xticks(rotation=45)\n",
    "plt.grid(False)\n",
    "for spine in ['top', 'right']:\n",
    "    plt.gca().spines[spine].set_visible(False)\n",
    "\n",
    "# 标题和坐标轴\n",
    "plt.ylabel('Net Value')\n",
    "plt.tight_layout()\n",
    "plt.show()\n"
   ],
   "id": "4eceb660b59d98d1",
   "outputs": [
    {
     "data": {
      "text/plain": [
       "<Figure size 1000x600 with 1 Axes>"
      ],
      "image/png": "[encoded data removed]"
     },
     "metadata": {},
     "output_type": "display_data"
    }
   ],
   "execution_count": 10
  },
  {
   "metadata": {
    "ExecuteTime": {
     "end_time": "2025-08-18T06:53:09.594151Z",
     "start_time": "2025-08-18T06:53:09.561744Z"
    }
   },
   "cell_type": "code",
   "source": [
    "from pybroker.eval import (\n",
    "    sharpe_ratio, sortino_ratio, max_drawdown_percent,\n",
    "    calmar_ratio, ulcer_index, upi,\n",
    ")\n",
    "\n",
    "nav = backtest_df_equal['portfolio_nv']  # pandas.Series，索引为时间戳；值为净值\n",
    "returns = nav.pct_change().dropna().values  # numpy.ndarray\n",
    "\n",
    "sharpe = sharpe_ratio(returns, obs=252)\n",
    "sortino = sortino_ratio(returns, obs=252)\n",
    "maxdd_pct, maxdd_idx = max_drawdown_percent(returns)\n",
    "calmar = calmar_ratio(returns,bars_per_year=252)\n",
    "ui = ulcer_index(returns)\n",
    "upi_val = upi(returns)\n",
    "ann_r=returns.mean()*252\n",
    "\n",
    "print(dict(\n",
    "    ann_r = ann_r,\n",
    "    sharpe=sharpe,\n",
    "    sortino=sortino,\n",
    "    maxdd_pct=maxdd_pct * 100,\n",
    "    maxdd_date=nav.index[maxdd_idx],\n",
    "    calmar=calmar,\n",
    "    ulcer_index=ui,\n",
    "    upi=upi_val\n",
    "))\n"
   ],
   "id": "305721696296bc40",
   "outputs": [
    {
     "name": "stdout",
     "output_type": "stream",
     "text": [
      "{'ann_r': np.float64(0.12840877488372698), 'sharpe': 1.4230146876190182, 'sortino': 2.30402437864222, 'maxdd_pct': -711.5738534988958, 'maxdd_date': Timestamp('2024-10-09 00:00:00'), 'calmar': np.float64(1.7713930433308478), 'ulcer_index': 119.0222079512032, 'upi': -3.135501768202174}\n"
     ]
    }
   ],
   "execution_count": 11
  },
  {
   "metadata": {},
   "cell_type": "markdown",
   "source": "# 因子代码调试",
   "id": "133000b04c190408"
  },
  {
   "metadata": {
    "ExecuteTime": {
     "end_time": "2025-08-14T02:06:14.368149Z",
     "start_time": "2025-08-14T02:06:12.105333Z"
    }
   },
   "cell_type": "code",
   "source": [
    "import  pandas as pd\n",
    "index_data = pd.read_csv(\"/Users/yaoyuyang/Desktop/Code/daily_futures_arbitrary_strategy/data/raw/index_nv_data.csv\")"
   ],
   "id": "20b0a6a5d6a1d657",
   "outputs": [],
   "execution_count": 1
  },
  {
   "metadata": {
    "ExecuteTime": {
     "end_time": "2025-08-14T02:06:20.208455Z",
     "start_time": "2025-08-14T02:06:19.763907Z"
    }
   },
   "cell_type": "code",
   "source": [
    "from data_utils import generate_ohlc\n",
    "import numpy as np\n",
    "import  talib\n",
    "data = generate_ohlc(index_data,'IMIC')"
   ],
   "id": "14e08faaf7ada1ae",
   "outputs": [],
   "execution_count": 2
  },
  {
   "metadata": {
    "ExecuteTime": {
     "end_time": "2025-08-14T03:06:33.783998Z",
     "start_time": "2025-08-14T03:06:33.134136Z"
    }
   },
   "cell_type": "code",
   "source": [
    "#资金流量指数\n",
    "def mfi_signal(price: pd.DataFrame,\n",
    "               timeperiod: int = 14,\n",
    "               threshold: float = 20,\n",
    "               volume_method: str=\"sub\") -> pd.Series:\n",
    "    \"\"\"\n",
    "    资金流量指数（MFI）信号：\n",
    "    - MFI > 100 - threshold → 看空（-1）\n",
    "    - MFI < threshold → 看多（+1）\n",
    "    - 其他情况 → 观望（0）\n",
    "\n",
    "    参数\n",
    "    ----\n",
    "    price : pd.DataFrame, 必须包含 \"high\",\"low\",\"close\",\"volume\"\n",
    "    timeperiod : MFI 计算窗口\n",
    "    threshold : 超买/超卖阈值，默认 20\n",
    "\n",
    "    返回\n",
    "    ----\n",
    "    pd.Series: 信号（1=多, -1=空, 0=观望）\n",
    "    \"\"\"\n",
    "    if not {\"high\", \"low\", \"close\", f\"volume_{volume_method}\"}.issubset(price.columns):\n",
    "        raise ValueError(f\"price 必须包含列：'high','low','close','volume_{volume_method}'\")\n",
    "    if not price.index.is_monotonic_increasing:\n",
    "        price = price.sort_index()\n",
    "\n",
    "    high = price[\"high\"].astype(float)\n",
    "    low = price[\"low\"].astype(float)\n",
    "    close = price[\"close\"].astype(float)\n",
    "    volume = price[f\"volume_{volume_method}\"].astype(float)\n",
    "\n",
    "    # 计算 MFI\n",
    "    mfi = talib.MFI(high, low, close, volume, timeperiod=timeperiod)\n",
    "\n",
    "    # 初始化信号\n",
    "    signal = pd.Series(0, index=price.index, dtype=int)\n",
    "    signal[mfi > 100 - threshold] = -1  # 超买 → 做空\n",
    "    signal[mfi < threshold] = 1         # 超卖 → 做多\n",
    "\n",
    "    return signal\n",
    "\n",
    "signal = mfi_signal(data)"
   ],
   "id": "641937b4a0bbf0e2",
   "outputs": [],
   "execution_count": 22
  },
  {
   "metadata": {},
   "cell_type": "code",
   "outputs": [],
   "execution_count": null,
   "source": "",
   "id": "fd7f1fadbc6efe5b"
  }
 ],
 "metadata": {
  "kernelspec": {
   "display_name": "daily_futures_arbitrary_strategy",
   "language": "python",
   "name": "python3"
  },
  "language_info": {
   "codemirror_mode": {
    "name": "ipython",
    "version": 3
   },
   "file_extension": ".py",
   "mimetype": "text/x-python",
   "name": "python",
   "nbconvert_exporter": "python",
   "pygments_lexer": "ipython3",
   "version": "3.12.11"
  }
 },
 "nbformat": 4,
 "nbformat_minor": 5
}
