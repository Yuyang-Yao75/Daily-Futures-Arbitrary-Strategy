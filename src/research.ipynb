{
 "cells": [
  {
   "cell_type": "markdown",
   "id": "5e1047153d0249df",
   "metadata": {},
   "source": [
    "### Tips\n",
    "- 仓位的单位是金额而不是份数\n",
    "- 展期收益可以从两个角度来理解\n",
    "    - 当你持有一个期货合约（而非现货）时，所获得的超额收益，就叫做展期收益。\n",
    "    - 展期收益反映了换月时期货合约切换带来的额外收益或损失。\n",
    "\n",
    "    无论怎么理解本质上都是当下的期货价格-现货价格，即当下的升贴水大小，在第两种语境下期货价格收敛于现货价格确保了这一结论的成立。\n",
    "- IH 与 IF 为大盘蓝筹风格；IC 与 IM 为中盘成长风格\n",
    "\n",
    "\n",
    "### 困惑\n",
    "1. 理论上 P3 的表格中应该满足期货收益=指数收益+展期收益，但是实际却接近但不符合这一规律，如何理解。包括累计收益的计算。后续有做复现，不知道理解是否正确。\n",
    "2. 市值因子是什么？如何计算的？为什么说会等资金配置会有很大的市值因子暴露。\n",
    "3. P7为什么说品种间相关性较小时会导致 beta 风险对冲效果不佳。"
   ]
  },
  {
   "cell_type": "markdown",
   "id": "3639ee550f5171df",
   "metadata": {},
   "source": [
    "# 1. 前提假设研究"
   ]
  },
  {
   "cell_type": "code",
   "execution_count": null,
   "id": "83c6ad75ed461bf2",
   "metadata": {},
   "outputs": [],
   "source": [
    "import pandas as pd\n",
    "import numpy as np\n",
    "import matplotlib.pyplot as plt\n",
    "from pylab import mpl\n",
    "mpl.rcParams['font.sans-serif'] = ['FZKai-Z03S']\n",
    "mpl.rcParams['axes.unicode_minus'] = False\n",
    "from config import *\n",
    "from data_utils import *"
   ]
  },
  {
   "cell_type": "markdown",
   "id": "e5986e1d669dbd58",
   "metadata": {},
   "source": [
    "| 代码     | 名称         | 对应指数         | 风格         | 对应ETF代码              |指数代码|\n",
    "| ------ | ---------- | ------------ | ---------- | -------------------- | ----- |\n",
    "| **IF** | 沪深300股指期货  | **沪深300指数**  | 大盘、主流蓝筹    | 510300.SH（华泰柏瑞沪深300） |000300.SH |\n",
    "| **IH** | 上证50股指期货   | **上证50指数**   | 超大盘、金融地产   | 510050.SH（华夏上证50）    |000016.SH |\n",
    "| **IC** | 中证500股指期货  | **中证500指数**  | 中盘成长、广义中小盘 | 510500.SH（南方中证500）   |000905.SH |\n",
    "| **IM** | 中证1000股指期货 | **中证1000指数** | 小盘成长、弹性大   | 512100.SH（中证1000ETF） |000852.SH |\n",
    "\n",
    "\n",
    "- 中证指数作为指数发布方，提供指数；\n",
    "- 各 ETF 发行方（如华夏、华泰柏瑞、南方）复制跟踪该指数；\n",
    "- 在不同交易所（沪深）挂钩的是“ETF”，不是指数本身。\n",
    "\n",
    "✅ 指数值在不同市场是相同的；\n",
    "\n",
    "✅ ETF价格可能不同，因其受交易供需、流动性、折溢价等影响。"
   ]
  },
  {
   "cell_type": "markdown",
   "id": "17e96fdc374adabb",
   "metadata": {},
   "source": [
    "1. 不同股指间本身有一定的相关性：根据折线图直观感受和相关系数矩阵结果可以表明确实四个产品之间具有比较高的相关性，但是根据投资组合理论对于相关性高的产品其实波动率降低能力有限，后续需观察这一现象是否在策略上有体现。\n",
    "2. IH/IF 与 IC/IM 是相关性较高的两个配对：因为 IH 与 IF 都是大盘蓝筹风格，IC 与 IM 都是中小盘成长风格。"
   ]
  },
  {
   "cell_type": "code",
   "execution_count": null,
   "id": "97cf8bc997161cdf",
   "metadata": {},
   "outputs": [],
   "source": [
    "#该部分可以用 pivot_index_data 替换\n",
    "index_df=pd.read_csv(INDEX_DATA)\n",
    "HS300_df=index_df[index_df['thscode']=='000300.SH']\n",
    "ZZ500_df=index_df[index_df['thscode']=='000905.SH']\n",
    "ZZ1000_df=index_df[index_df['thscode']=='000852.SH']\n",
    "SZ50_df=index_df[index_df['thscode']=='000016.SH']\n",
    "index_df = pd.DataFrame({\n",
    "    '000300.SH': HS300_df['close'].reset_index(drop=True),\n",
    "    '000905.SH': ZZ500_df['close'].reset_index(drop=True),\n",
    "    '000852.SH': ZZ1000_df['close'].reset_index(drop=True),\n",
    "    '000016.SH': SZ50_df['close'].reset_index(drop=True)\n",
    "})"
   ]
  },
  {
   "cell_type": "code",
   "execution_count": null,
   "id": "ee32a13b374c306",
   "metadata": {},
   "outputs": [],
   "source": [
    "# 重置index并创建新的DataFrame\n",
    "corr_matrix = index_df.corr()\n",
    "print(corr_matrix)"
   ]
  },
  {
   "cell_type": "markdown",
   "id": "c2a4552305e8785b",
   "metadata": {},
   "source": [
    "3. 不同品种间的升贴水有很大差异，基差可能贡献大部分跨品种组合的收益（这一观点由收益分解结果支持）：本文所提到的这种升贴水差异主要体现在 futures_data 文件的 ICIF、IFIH、IMIC、IMIH 的数值上，这表示的是年化基差率的差异，权重是基于本金计算的。\n",
    "- 理论基础：跨品种套利组合的总收益分解【这一现实情况决定了在进行策略信号构建时需要考虑分开预测大小盘风格于展期收益】\n",
    "    - 指数相对涨跌的收益（style effect，风格轮动）：不同风格（如大盘 vs 小盘、价值 vs 成长）在不同时期表现交替领先或落后，从而形成了可以利用的轮动机会。\n",
    "    - 展期收益（基差收敛带来的收益）：当你持有一个期货合约（而非现货）时，所获得的超额收益，就叫做展期收益，具体来说比如你持有的是期货合约而不是现货，额外多赚了 50 点，这部分就叫展期收益。展期收益 = 期货价格变动 – 现货价格变动，$展期收益=（F_t^{平仓}-F_0^{建仓}）-（S_t-S_0）$，由于平仓期货价格收敛于现货价格，所以展期收益本质上就是基差，即升贴水的值。\n",
    "\n",
    "【份数相同情景】组合总收益=\n",
    "$(F_A^{t_1}-F_A^{t_0})-(F_B^{t_1}-F_B^{t_0})=$\n",
    "\n",
    "$(S_A^{t_1}+基差_A^{t_1}-S_A^{t_0}-基差_A^{t_0})-(S_B^{t_1}+基差_B^{t_1}-S_B^{t_0}-基差_B^{t_0})=$\n",
    "\n",
    "$(S_A^{t_1}-S_A^{t_0})-(S_B^{t_1}-S_B^{t_0})+(基差_A^{t_1}-基差_A^{t_0})-(基差_B^{t_1}-基差_B^{t_0})=$\n",
    "\n",
    "$\\Delta S_A-\\Delta S_B+(基差_A^{t_1}-基差_B^{t_1})-(基差_A^{t_0}-基差_B^{t_0})$\n",
    "\n",
    "- 结论：\n",
    "1. 在实操的时候构建信号将「风格轮动预测」和「基差与指数信号」分开考虑，而后合成为跨品种套利的策略信号。\n",
    "    1. 风格轮动对应的是$\\Delta S_A-\\Delta S_B$部分\n",
    "    2. 如果持有至接近期限，那么$(基差_A^{t_1}-基差_B^{t_1})$会很接近于 0，此时问题的关键在于建仓时的基差的差额\n",
    "2. 因为 IH/IF 与 IC/IM 是两个相关性较高的配对，所以策略也可以被分为同风格的跨品种套利和跨风格的跨品种套利。\n",
    "3. 当金额相同时基差的差转为了基差率的差"
   ]
  },
  {
   "cell_type": "code",
   "execution_count": null,
   "id": "9fdd4e460ca56341",
   "metadata": {},
   "outputs": [],
   "source": [
    "futures_data=pd.read_csv(FUTURES_DATA)\n",
    "futures_df = pd.DataFrame({\n",
    "    'ICIF': futures_data['ICIF'],\n",
    "    'IFIH': futures_data['IFIH'],\n",
    "    'IMIC': futures_data['IMIC'],\n",
    "    'IMIH': futures_data['IMIH']\n",
    "})\n",
    "futures_df.index = futures_data['time']"
   ]
  },
  {
   "cell_type": "markdown",
   "id": "17139d60e76d248e",
   "metadata": {},
   "source": [
    "4. 四个品种的跨品种套利可以有两种基本思路：时间序列和横截面\n",
    "    1. 时间序列的含义是确定组合方式（视作一个资产比如 ICIF ），策略核心在于通过因子择时买入和卖出\n",
    "    2. 横截面思路是组合方式不确定，但是策略持有期固定（未必，待补充），策略核心在于通过因子确定各资产买入权重。"
   ]
  },
  {
   "cell_type": "markdown",
   "id": "7f9d3d594f7d0088",
   "metadata": {},
   "source": [
    "5. 主力合约的收益分解"
   ]
  },
  {
   "cell_type": "code",
   "execution_count": null,
   "id": "572162211ac182d",
   "metadata": {},
   "outputs": [],
   "source": [
    "index_df=pd.read_csv(INDEX_DATA)\n",
    "index_pivot_df=pivot_index_data(index_df,CODE_MAP)\n",
    "futures_df=pd.read_csv(FUTURES_DATA)\n",
    "futures_df['time'] = pd.to_datetime(futures_df['time'])\n",
    "futures_df['IC_LTDATE_NEW']=pd.to_datetime(futures_df['IC_LTDATE_NEW'])\n",
    "futures_df['IF_LTDATE_NEW']=pd.to_datetime(futures_df['IF_LTDATE_NEW'])\n",
    "futures_df['IH_LTDATE_NEW']=pd.to_datetime(futures_df['IH_LTDATE_NEW'])\n",
    "futures_df['IM_LTDATE_NEW']=pd.to_datetime(futures_df['IM_LTDATE_NEW'])\n",
    "total_df= pd.merge(futures_df, index_pivot_df, on='time', how='left')\n",
    "IFIH_df = pd.DataFrame({\n",
    "    'time': total_df['time'],\n",
    "    'index_return': total_df['IF_udy_changeRatio']-total_df['IH_udy_changeRatio'],\n",
    "    'futures_return': total_df['IF_PCT_CHG']-total_df['IH_PCT_CHG'],\n",
    "    'basis_return': total_df['IFIH']/244\n",
    "})\n",
    "IFIH_df['index_nv']=(1+IFIH_df['index_return']).cumprod()\n",
    "IFIH_df['futures_nv']=(1+IFIH_df['futures_return']).cumprod()\n",
    "IFIH_df['basis_nv']=(1+IFIH_df['basis_return']).cumprod()"
   ]
  },
  {
   "cell_type": "markdown",
   "id": "a558483d0a740e4f",
   "metadata": {},
   "source": [
    "# 2. 根据基差构建夸品种套利信号\n",
    "## 2.1 时序思路\n",
    "- 思路：等资金做多一个品种并做空一个品种，根据主力合约年化基差率之差构建跨品种套利仓位信号（具体来说计算差值后取相反数*10）\n",
    "- 起源：跨品种期货收益分解公式，根据公式可知在其他条件不变的情况下，基差率之差越大，收益越大，所以基差率差的大小可以作为一种仓位信号。"
   ]
  },
  {
   "cell_type": "markdown",
   "id": "19e5dc9e2d83b45c",
   "metadata": {},
   "source": [
    "## 2.2 基于波动率中性改进的时序思路\n",
    "- 思路：等资金的一个隐患是有较大的市值风险因子暴露"
   ]
  },
  {
   "cell_type": "code",
   "execution_count": null,
   "id": "19b1d15078ed01e5",
   "metadata": {},
   "outputs": [],
   "source": [
    "index_data=pd.read_csv(INDEX_DATA)\n",
    "df_futures = pd.read_csv(FUTURES_DATA)\n",
    "df_futures['time'] = pd.to_datetime(df_futures['time'])\n",
    "df_futures = df_futures.set_index('time')"
   ]
  },
  {
   "cell_type": "code",
   "execution_count": null,
   "id": "b515051e2a03a9ad",
   "metadata": {},
   "outputs": [],
   "source": [
    "df_index_return = pd.pivot(index_data, index=\"time\", columns=\"thscode\", values=\"changeRatio\") / 100\n",
    "df_index_return.index = pd.to_datetime(df_index_return.index)"
   ]
  },
  {
   "cell_type": "code",
   "execution_count": null,
   "id": "d27b7ef4f8dedb6f",
   "metadata": {},
   "outputs": [],
   "source": [
    "columns = df_index_return.columns\n",
    "for col in columns:\n",
    "    # 计算每个标的的滚动60日波动率\n",
    "    df_index_return[f'{col}_60d_volatility'] = df_index_return[col].rolling(window=60).std()"
   ]
  },
  {
   "cell_type": "code",
   "execution_count": null,
   "id": "e45fe0d82cd8dee2",
   "metadata": {},
   "outputs": [],
   "source": [
    "df_vol = df_index_return.copy(deep=True)\n",
    "df_vol.rename(columns=lambda x: x.replace('000016.SH', 'IH').replace('000905.SH', 'IC').replace('000300.SH', 'IF').replace('000852.SH', 'IM'), inplace=True)\n",
    "pairs = [\"IFIH\", \"ICIF\", \"IMIC\", \"IMIH\"]"
   ]
  },
  {
   "cell_type": "code",
   "execution_count": null,
   "id": "d539a999747f79b7",
   "metadata": {},
   "outputs": [],
   "source": [
    "for pair in pairs:\n",
    "    # 计算多头标的权重\n",
    "    df_vol[\"{}_{}_weight\".format(pair, pair[:2])] = 2 * df_vol[\"{}_60d_volatility\".format(pair[2:])] / (\n",
    "            df_vol[\"{}_60d_volatility\".format(pair[:2])] + df_vol[\"{}_60d_volatility\".format(pair[2:])])\n",
    "    # 计算空头标的权重\n",
    "    df_vol[\"{}_{}_weight\".format(pair, pair[2:])] = 2 * df_vol[\"{}_60d_volatility\".format(pair[:2])] / (\n",
    "            df_vol[\"{}_60d_volatility\".format(pair[:2])] + df_vol[\"{}_60d_volatility\".format(pair[2:])])\n",
    "    # 计算收益率60日相关性\n",
    "    df_vol[\"{}_60d_corr\".format(pair)] = df_vol[\"{}\".format(pair[:2])].rolling(window=60).corr(df_vol[\"{}\".format(pair[2:])])"
   ]
  },
  {
   "cell_type": "code",
   "execution_count": null,
   "id": "b34256a13b02671f",
   "metadata": {},
   "outputs": [],
   "source": [
    "df_basis_signal = pd.merge(df_vol, df_futures, left_index=True, right_index=True)\n",
    "for pair in pairs:\n",
    "    # 计算基差信号\n",
    "    df_basis_signal[\"signal_{}\".format(pair)] = (df_basis_signal[\"{}_{}_weight\".format(pair, pair[:2])] * \\\n",
    "                                                df_basis_signal[\"{}_ANAL_BASISANNUALYIELD\".format(pair[:2])] - df_basis_signal[\"{}_{}_weight\".format(pair, pair[2:])] * \\\n",
    "                                                df_basis_signal[\"{}_ANAL_BASISANNUALYIELD\".format(pair[2:])]) / 100\n",
    "    # 如果收益率60日相关性小于0.7，则空仓\n",
    "    df_basis_signal[\"signal_{}_position\".format(pair)] = np.where(\n",
    "        df_basis_signal[\"{}_60d_corr\".format(pair)] >= 0.7,\n",
    "        -df_basis_signal[\"signal_{}\".format(pair)] * 10,\n",
    "        0)"
   ]
  },
  {
   "cell_type": "code",
   "execution_count": null,
   "id": "b470152f12c3e39a",
   "metadata": {},
   "outputs": [],
   "source": [
    "df_basis_signal[\"date\"] = pd.to_datetime(df_basis_signal.index)\n",
    "df_basis_signal = df_basis_signal[['date', 'signal_IFIH', 'signal_IFIH_position',\n",
    "                                'signal_ICIF', 'signal_ICIF_position', 'signal_IMIC',\n",
    "                                'signal_IMIC_position', 'signal_IMIH', 'signal_IMIH_position']]\n",
    "\n",
    "df_basis_signal.to_csv(\"basis_signal.csv\", index=False)"
   ]
  },
  {
   "cell_type": "code",
   "execution_count": null,
   "id": "cc6014883c69826d",
   "metadata": {},
   "outputs": [],
   "source": [
    "import pandas as pd\n",
    "import os\n",
    "from config import *\n",
    "def calculate_nv_data(df_underlying: pd.DataFrame,\n",
    "                    cal_type: str,\n",
    "                    code_map: dict = CODE_MAP,\n",
    "                    available_pairs: list = AVAILABLE_PAIRS) -> pd.DataFrame:\n",
    "    \"\"\"\n",
    "    输入：\n",
    "        df_underlying: 包含 'time' 列 和对应后缀的原始 Returns 数据\n",
    "        type: 'index' 或 'futures'\n",
    "    返回：\n",
    "        df_nv: index，由各配对组合的净值序列组成，列名形如 'IFIH_index_nv' 或 'IFIH_futures_nv'\n",
    "    \"\"\"\n",
    "    # 根据 type 选列后缀 & 文件名前缀\n",
    "    if cal_type == 'index':\n",
    "        return_cols = {v: f\"{v}_udy_changeRatio\" for v in code_map.values()}\n",
    "        file_prefix = 'index_nv_data'\n",
    "    elif cal_type == 'futures':\n",
    "        return_cols = {v: f\"{v}_PCT_CHG\" for v in code_map.values()}\n",
    "        file_prefix = 'futures_nv_data'\n",
    "    else:\n",
    "        raise ValueError(\"type 必须是 'index' 或 'futures'\")\n",
    "\n",
    "    # 时间列转 datetime 并设为索引\n",
    "    df = df_underlying.copy()\n",
    "    df[\"time\"] = pd.to_datetime(df[\"time\"])\n",
    "    df.set_index(\"time\", inplace=True)\n",
    "\n",
    "    # 存放所有组合净值\n",
    "    df_nv = pd.DataFrame(index=df.index)\n",
    "\n",
    "    for pair in available_pairs:\n",
    "        first, second = pair[:2], pair[2:]\n",
    "        col_f, col_s = return_cols[first], return_cols[second]\n",
    "        # 累积净值\n",
    "        cum_nv = (1 + (df[col_f] - df[col_s])).cumprod()\n",
    "        # 归一化到 1\n",
    "        df_nv[f\"{pair}_{cal_type}_nv\"] = cum_nv / cum_nv.iloc[0]\n",
    "\n",
    "    # 自动用时间范围拼文件名，并在初次运行时保存\n",
    "    start_str = df_nv.index[0].strftime('%Y%m%d')\n",
    "    end_str   = df_nv.index[-1].strftime('%Y%m%d')\n",
    "    out_path = os.path.join(RAW_DATA_PATH,\n",
    "                            f\"{file_prefix}_{start_str}_{end_str}.csv\")\n",
    "    df_nv.to_csv(out_path, index=True)\n",
    "\n",
    "    return df_nv\n",
    "\n",
    "index_data = pd.read_csv(INDEX_DATA)\n",
    "index_nv=calculate_nv_data(index_data, 'index')"
   ]
  },
  {
   "cell_type": "code",
   "execution_count": null,
   "id": "ebd52b026a579c87",
   "metadata": {},
   "outputs": [],
   "source": [
    "from data_utils import *\n",
    "def get_nv_data(df_underlying: pd.DataFrame, cal_type: str) -> pd.DataFrame:\n",
    "    if search_file_recursive(RAW_DATA_PATH, f\"{cal_type}_nv_data.csv\"):\n",
    "        return pd.read_csv(os.path.join(RAW_DATA_PATH, f\"{cal_type}_nv_data.csv\"))\n",
    "    else:\n",
    "        df_nv = calculate_nv_data(df_underlying, cal_type)\n",
    "        return df_nv"
   ]
  },
  {
   "cell_type": "code",
   "execution_count": null,
   "id": "b9029f60d591c19",
   "metadata": {},
   "outputs": [],
   "source": [
    "a=get_nv_data(index_data, 'index')"
   ]
  },
  {
   "cell_type": "code",
   "execution_count": null,
   "id": "1e127afbcf1e5147",
   "metadata": {},
   "outputs": [],
   "source": [
    "def generate_ohlc(df_nv:pd.DataFrame,prefix:str)->pd.DataFrame:\n",
    "    \"\"\"\n",
    "    从净值数据中提取以指定前缀开头的列，并生成 OHLC 表格。\n",
    "\n",
    "    参数：\n",
    "    df_nv (pd.DataFrame)：以时间索引的净值表，包含如 'IFIH_index_nv'、'IFIH_futures_nv' 等\n",
    "    prefix (str)        ：要模糊搜索的列前缀，例如 'IFIH'\n",
    "\n",
    "    返回：\n",
    "    pd.DataFrame：包含 ['date','close','open','high','low'] 的新表格\n",
    "    \"\"\"\n",
    "    # 在列名中进行模糊搜索\n",
    "    matched_cols = [col for col in df_nv.columns if col.startswith(prefix)]\n",
    "    if not matched_cols:\n",
    "        raise ValueError(f\"没有找到以 '{prefix}' 开头的列\")\n",
    "    # 如果有多个匹配，默认使用第一个\n",
    "    target_col = matched_cols[0]\n",
    "    # 生成 OHLC 表格\n",
    "    df = df_nv[[target_col]].copy().reset_index()\n",
    "    df.rename(columns={target_col: 'close'}, inplace=True)\n",
    "    df['open']=df['close']-0.01\n",
    "    df['high']=df['close']+0.01\n",
    "    df['low']=df['close']-0.02\n",
    "    return df"
   ]
  },
  {
   "cell_type": "code",
   "execution_count": null,
   "id": "9449a64a26d5b62f",
   "metadata": {},
   "outputs": [],
   "source": [
    "def calculate_basis_signal(\n",
    "        df_index:pd.DataFrame,\n",
    "        df_future:pd.DataFrame,\n",
    "        pair: str,\n",
    "        window: int=60,\n",
    "        corr_threshold:float=0.7,\n",
    "        leverage:float=10\n",
    "        )->pd.DataFrame:\n",
    "    \"\"\"\n",
    "    对单个多空组合（pair，如'IFIH'），计算基差信号及仓位。\n",
    "\n",
    "    参数:\n",
    "    df_index: pd.DataFrame，包含指数数据，包括时间和指数收盘价以及指数收益。\n",
    "    df_future: pd.DataFrame，包含期货数据，包括时间和期货收盘价等。\n",
    "    pair: str，多空组合的代码，如'IFIH'。\n",
    "    window: int，计算滚动波动率的窗口大小和相关性的窗口大小，默认为60。\n",
    "    corr_threshold: float，当收益率相关性低于此阈值时强制平仓，默认为0.7。\n",
    "    leverage: float，信号乘数，默认为10。\n",
    "\n",
    "    返回:\n",
    "    pd.DataFrame，包含时间、基差信号和仓位。\n",
    "        包含三列：\n",
    "        - date                  (datetime)\n",
    "        - signal_{pair}         (float) 基差信号\n",
    "        - signal_{pair}_position(float) 最终仓位信号\n",
    "    \"\"\"\n",
    "    # 计算滚动波动率\n",
    "    sym_long, sym_short = pair[:2], pair[2:]\n",
    "    vol_long = df_index[f\"{sym_long}_udy_changeRatio\"].rolling(window).std()\n",
    "    vol_short = df_index[f\"{sym_short}_udy_changeRatio\"].rolling(window).std()\n",
    "\n",
    "    # 计算当日权重\n",
    "    weight_long = 2*vol_short / (vol_long + vol_short)\n",
    "    weight_short = 2*vol_long / (vol_long + vol_short)\n",
    "\n",
    "    # 计算收益率相关性\n",
    "    corr = df_index[f\"{sym_long}_udy_changeRatio\"].rolling(window).corr(df_index[f\"{sym_short}_udy_changeRatio\"])\n",
    "\n",
    "    # 计算基差信号\n",
    "    basis_long = df_future[f\"{sym_long}_ANAL_BASISANNUALYIELD\"]/100\n",
    "    basis_short = df_future[f\"{sym_short}_ANAL_BASISANNUALYIELD\"]/100\n",
    "    raw_signal = weight_long * basis_long - weight_short * basis_short\n",
    "\n",
    "    signal = raw_signal.reindex(df_future.index)\n",
    "    corr_aligned = corr.reindex(df_future.index)\n",
    "    # 仓位计算\n",
    "    position = (signal * (-leverage)).where(corr_aligned >= corr_threshold, 0)\n",
    "\n",
    "    # 组装输出\n",
    "    df_out = pd.DataFrame({\n",
    "        'date':                    df_future.index,\n",
    "        f\"signal_{pair}\":          signal.values,\n",
    "        f\"signal_{pair}_position\": position.values\n",
    "    }).reset_index(drop=True)\n",
    "\n",
    "    # 返回结果\n",
    "    return df_out\n",
    "def calculate_all_basis_signal(index_data, futures_data, available_pairs:list=AVAILABLE_PAIRS):\n",
    "    all_signals=[]\n",
    "    for pair in available_pairs:\n",
    "        df_sig = calculate_basis_signal(index_data, futures_data, pair)\n",
    "        all_signals.append(df_sig.set_index('date'))\n",
    "    df_all_sig = pd.concat(all_signals, axis=1).reset_index()\n",
    "    return df_all_sig\n"
   ]
  },
  {
   "cell_type": "code",
   "execution_count": null,
   "id": "8dddaf42b78dd900",
   "metadata": {},
   "outputs": [],
   "source": [
    "index_data = pd.read_csv(INDEX_DATA)\n",
    "index_data['time'] = pd.to_datetime(index_data['time'])\n",
    "index_data.set_index('time', inplace=True)"
   ]
  },
  {
   "cell_type": "code",
   "execution_count": null,
   "id": "3b7f049eaadfa488",
   "metadata": {},
   "outputs": [],
   "source": [
    "future_data = pd.read_csv(FUTURES_DATA)\n",
    "future_data['time'] = pd.to_datetime(future_data['time'])\n",
    "future_data.set_index('time', inplace=True)"
   ]
  },
  {
   "cell_type": "code",
   "execution_count": null,
   "id": "3ae0a7d04cefa9b1",
   "metadata": {},
   "outputs": [],
   "source": [
    "c=calculate_all_basis_signal(index_data, future_data)"
   ]
  },
  {
   "cell_type": "code",
   "execution_count": 1,
   "id": "50f6e2d4dcb203a8",
   "metadata": {
    "ExecuteTime": {
     "end_time": "2025-07-28T09:12:31.404223Z",
     "start_time": "2025-07-28T09:12:29.482581Z"
    }
   },
   "outputs": [],
   "source": [
    "from signal_utils import *\n",
    "from data_utils import *\n",
    "from config import *\n",
    "from datetime import datetime\n",
    "index_data = pd.read_csv(INDEX_DATA)\n",
    "index_nv_data=get_nv_data(index_data,\"index\")"
   ]
  },
  {
   "cell_type": "code",
   "id": "f1e3db44f391edff",
   "metadata": {
    "ExecuteTime": {
     "end_time": "2025-07-29T05:35:49.832895Z",
     "start_time": "2025-07-29T05:35:49.818324Z"
    }
   },
   "source": [
    "def aggregate_to_monthly_price_change(df):\n",
    "    \"\"\"\n",
    "    为每个月计算多空组合的净值涨跌情况\n",
    "    :param df: 多空组合后的净值\n",
    "    :return: 月度涨跌数据\n",
    "    \"\"\"\n",
    "    df = df.copy()\n",
    "    df[\"time\"] = pd.to_datetime(df[\"time\"])\n",
    "    df['year'] = df['time'].dt.year\n",
    "    df['month'] = df['time'].dt.month\n",
    "    # 用groupby+agg优化\n",
    "    monthly = df.groupby(['year', 'month']).agg(\n",
    "        first_price=('close', 'first'),\n",
    "        last_price=('close', 'last'),\n",
    "        last_date=('time', 'last')\n",
    "    ).reset_index()\n",
    "    monthly['return'] = (monthly['last_price'] / monthly['first_price']) - 1\n",
    "    monthly['price_up'] = monthly['return'] > 0\n",
    "    return monthly[['year', 'month', 'return', 'price_up', 'last_date']]\n",
    "\n",
    "# 函数：计算到某年某月为止的历史价格涨跌胜率\n",
    "\n",
    "def calculate_price_up_win_rate(df, current_year, current_month):\n",
    "    # 只包含当前月之前的历史数据\n",
    "    mask = ((df['year'] < current_year) | ((df['year'] == current_year) & (df['month'] < current_month)))\n",
    "    historical_data = df[mask].copy()\n",
    "    # 按月份分组计算价格上涨的胜率\n",
    "    monthly_win_rates = {}\n",
    "    for month in range(1, 13):\n",
    "        month_data = historical_data[historical_data['month'] == month]\n",
    "        if len(month_data) > 0:\n",
    "            wins = month_data['price_up'].sum()\n",
    "            total = len(month_data)\n",
    "            win_rate = wins / total if total > 0 else 0.5\n",
    "            monthly_win_rates[month] = win_rate\n",
    "        else:\n",
    "            monthly_win_rates[month] = 0.5  # 如果没有历史数据，默认为50%\n",
    "    return monthly_win_rates\n",
    "\n",
    "# 计算季节性信号和权重\n",
    "\n",
    "def calculate_seasonal_signals(monthly_data, start_year, end_year):\n",
    "    results = []\n",
    "    from datetime import datetime\n",
    "    now = datetime.now()\n",
    "    for year in range(start_year, end_year + 1):\n",
    "        for month in range(1, 13):\n",
    "            # 跳过未来数据（只到本月）\n",
    "            if (year > now.year) or (year == now.year and month > now.month):\n",
    "                continue\n",
    "            # 计算该月的历史价格上涨胜率\n",
    "            win_rates = calculate_price_up_win_rate(monthly_data, year, month)\n",
    "            current_win_rate = win_rates[month]\n",
    "            deviation = current_win_rate - 0.5\n",
    "            signal_direction = 1 if deviation > 0 else -1  # 1表示多头，-1表示空头\n",
    "            weight = abs(deviation)\n",
    "            results.append({\n",
    "                'year': year,\n",
    "                'month': month,\n",
    "                'win_rate': current_win_rate,\n",
    "                'deviation': deviation,\n",
    "                'signal': signal_direction,\n",
    "                'weight': weight\n",
    "            })\n",
    "    return pd.DataFrame(results)"
   ],
   "outputs": [],
   "execution_count": 4
  },
  {
   "metadata": {
    "ExecuteTime": {
     "end_time": "2025-07-29T05:36:37.847318Z",
     "start_time": "2025-07-29T05:36:37.799162Z"
    }
   },
   "cell_type": "code",
   "source": [
    "import pandas as pd\n",
    "from config import *\n",
    "from data_utils import *"
   ],
   "id": "c4f5344c3520b5da",
   "outputs": [],
   "execution_count": 6
  },
  {
   "cell_type": "code",
   "id": "f1805826551fb634",
   "metadata": {
    "ExecuteTime": {
     "end_time": "2025-07-29T05:46:02.642642Z",
     "start_time": "2025-07-29T05:45:56.550381Z"
    }
   },
   "source": [
    "index_data = pd.read_csv(INDEX_DATA)\n",
    "index_nv_data = get_nv_data(index_data, \"index\")\n",
    "for pair in AVAILABLE_PAIRS:\n",
    "    daily_data = generate_ohlc(index_nv_data, pair)\n",
    "    monthly_data = aggregate_to_monthly_price_change(daily_data)\n",
    "    # 生成信号\n",
    "    start_year = 2010  # 从2010年开始生成信号\n",
    "    end_year = 2024  # 到2023年结束\n",
    "    signals = calculate_seasonal_signals(monthly_data, start_year, end_year)\n",
    "    signals[[\"month\", \"win_rate\", \"signal\", \"weight\"]].to_csv(\"../data/season_signal_test_{}.csv\".format(pair), index=False)"
   ],
   "outputs": [],
   "execution_count": 8
  },
  {
   "cell_type": "markdown",
   "id": "43008aed00ace264",
   "metadata": {},
   "source": [
    "- 所以说整个代码逻辑其实很简单，中间过程是怎么样的无所谓，最终就是要搞明白生成的交易信号是什么？交易信号对应的交易逻辑是什么就可以了！b"
   ]
  }
 ],
 "metadata": {
  "kernelspec": {
   "display_name": "daily_futures_arbitrary_strategy",
   "language": "python",
   "name": "python3"
  },
  "language_info": {
   "codemirror_mode": {
    "name": "ipython",
    "version": 3
   },
   "file_extension": ".py",
   "mimetype": "text/x-python",
   "name": "python",
   "nbconvert_exporter": "python",
   "pygments_lexer": "ipython3",
   "version": "3.12.11"
  }
 },
 "nbformat": 4,
 "nbformat_minor": 5
}
